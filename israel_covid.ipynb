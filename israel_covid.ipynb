{
 "cells": [
  {
   "cell_type": "code",
   "execution_count": 312,
   "metadata": {
    "colab": {},
    "colab_type": "code",
    "id": "9VD38dhp31so"
   },
   "outputs": [],
   "source": [
    "%matplotlib inline"
   ]
  },
  {
   "cell_type": "code",
   "execution_count": 313,
   "metadata": {
    "colab": {
     "base_uri": "https://localhost:8080/",
     "height": 71
    },
    "colab_type": "code",
    "id": "ZqtCsciJ4IUX",
    "outputId": "95cc64ba-73ee-435b-92db-6d105903da06"
   },
   "outputs": [],
   "source": [
    "import matplotlib.pyplot as plt\n",
    "import pandas as pd\n",
    "import numpy as np\n",
    "import seaborn as sns\n",
    "\n",
    "sns.set_context('notebook')\n",
    "sns.set_style('white')\n"
   ]
  },
  {
   "cell_type": "code",
   "execution_count": 314,
   "metadata": {
    "colab": {},
    "colab_type": "code",
    "id": "s9isgNw16ug3"
   },
   "outputs": [],
   "source": [
    "import glob\n",
    "import os\n",
    "\n",
    "def get_latest_file_glob(pat):    \n",
    "    list_of_files = glob.glob(pat) # * means all if need specific format then *.csv\n",
    "    latest_file = max(list_of_files, key=os.path.getctime)\n",
    "    return latest_file"
   ]
  },
  {
   "cell_type": "code",
   "execution_count": 315,
   "metadata": {
    "colab": {
     "base_uri": "https://localhost:8080/",
     "height": 308
    },
    "colab_type": "code",
    "id": "SUlgU_cT4V9K",
    "outputId": "56fe8776-d9ab-47a5-f787-b43d582db855"
   },
   "outputs": [
    {
     "data": {
      "text/html": [
       "<div>\n",
       "<style scoped>\n",
       "    .dataframe tbody tr th:only-of-type {\n",
       "        vertical-align: middle;\n",
       "    }\n",
       "\n",
       "    .dataframe tbody tr th {\n",
       "        vertical-align: top;\n",
       "    }\n",
       "\n",
       "    .dataframe thead th {\n",
       "        text-align: right;\n",
       "    }\n",
       "</style>\n",
       "<table border=\"1\" class=\"dataframe\">\n",
       "  <thead>\n",
       "    <tr style=\"text-align: right;\">\n",
       "      <th></th>\n",
       "      <th>test_date</th>\n",
       "      <th>cough</th>\n",
       "      <th>fever</th>\n",
       "      <th>sore_throat</th>\n",
       "      <th>shortness_of_breath</th>\n",
       "      <th>head_ache</th>\n",
       "      <th>corona_result</th>\n",
       "      <th>age_60_and_above</th>\n",
       "      <th>gender</th>\n",
       "      <th>test_indication</th>\n",
       "    </tr>\n",
       "  </thead>\n",
       "  <tbody>\n",
       "    <tr>\n",
       "      <td>0</td>\n",
       "      <td>2020-09-03</td>\n",
       "      <td>0</td>\n",
       "      <td>0</td>\n",
       "      <td>0</td>\n",
       "      <td>0</td>\n",
       "      <td>0</td>\n",
       "      <td>שלילי</td>\n",
       "      <td>No</td>\n",
       "      <td>זכר</td>\n",
       "      <td>Other</td>\n",
       "    </tr>\n",
       "    <tr>\n",
       "      <td>1</td>\n",
       "      <td>2020-09-03</td>\n",
       "      <td>0</td>\n",
       "      <td>0</td>\n",
       "      <td>0</td>\n",
       "      <td>0</td>\n",
       "      <td>0</td>\n",
       "      <td>שלילי</td>\n",
       "      <td>No</td>\n",
       "      <td>זכר</td>\n",
       "      <td>Other</td>\n",
       "    </tr>\n",
       "    <tr>\n",
       "      <td>2</td>\n",
       "      <td>2020-09-03</td>\n",
       "      <td>0</td>\n",
       "      <td>0</td>\n",
       "      <td>0</td>\n",
       "      <td>0</td>\n",
       "      <td>0</td>\n",
       "      <td>שלילי</td>\n",
       "      <td>No</td>\n",
       "      <td>זכר</td>\n",
       "      <td>Other</td>\n",
       "    </tr>\n",
       "    <tr>\n",
       "      <td>3</td>\n",
       "      <td>2020-09-03</td>\n",
       "      <td>0</td>\n",
       "      <td>0</td>\n",
       "      <td>0</td>\n",
       "      <td>0</td>\n",
       "      <td>0</td>\n",
       "      <td>שלילי</td>\n",
       "      <td>NaN</td>\n",
       "      <td>זכר</td>\n",
       "      <td>Other</td>\n",
       "    </tr>\n",
       "    <tr>\n",
       "      <td>4</td>\n",
       "      <td>2020-09-03</td>\n",
       "      <td>0</td>\n",
       "      <td>0</td>\n",
       "      <td>0</td>\n",
       "      <td>0</td>\n",
       "      <td>0</td>\n",
       "      <td>שלילי</td>\n",
       "      <td>No</td>\n",
       "      <td>נקבה</td>\n",
       "      <td>Other</td>\n",
       "    </tr>\n",
       "  </tbody>\n",
       "</table>\n",
       "</div>"
      ],
      "text/plain": [
       "   test_date  cough  fever  sore_throat  shortness_of_breath  head_ache  \\\n",
       "0 2020-09-03      0      0            0                    0          0   \n",
       "1 2020-09-03      0      0            0                    0          0   \n",
       "2 2020-09-03      0      0            0                    0          0   \n",
       "3 2020-09-03      0      0            0                    0          0   \n",
       "4 2020-09-03      0      0            0                    0          0   \n",
       "\n",
       "  corona_result age_60_and_above gender test_indication  \n",
       "0         שלילי               No    זכר           Other  \n",
       "1         שלילי               No    זכר           Other  \n",
       "2         שלילי               No    זכר           Other  \n",
       "3         שלילי              NaN    זכר           Other  \n",
       "4         שלילי               No   נקבה           Other  "
      ]
     },
     "execution_count": 315,
     "metadata": {},
     "output_type": "execute_result"
    }
   ],
   "source": [
    "latest_niv = get_latest_file_glob('data/corona_tested_individuals_ver_*.csv.gz')\n",
    "niv = pd.read_csv(latest_niv, \n",
    "                  encoding='utf-8-sig', low_memory=False, na_values=['None'],\n",
    "                  parse_dates=[0])\n",
    "#niv['test_date'] = niv.test_date.apply(pd.to_datetime, format='%Y-%m-%d')\n",
    "niv.head()"
   ]
  },
  {
   "cell_type": "code",
   "execution_count": 316,
   "metadata": {
    "colab": {},
    "colab_type": "code",
    "id": "xRXK8IGe5yZf"
   },
   "outputs": [],
   "source": [
    "symptom_cols = ['cough', 'fever', 'sore_throat', 'shortness_of_breath', 'head_ache']\n",
    "niv['symp_num'] = niv[symptom_cols].fillna(0).sum(axis=1).astype(int)\n",
    "niv['no_symp'] = (~niv[symptom_cols].fillna(0).any(axis=1))\n",
    "symptom_cols.append('no_symp')\n"
   ]
  },
  {
   "cell_type": "code",
   "execution_count": 317,
   "metadata": {
    "colab": {
     "base_uri": "https://localhost:8080/",
     "height": 203
    },
    "colab_type": "code",
    "id": "sq92Rycp8K2B",
    "outputId": "22042338-0ddb-418a-afdb-278e1e9d6789"
   },
   "outputs": [],
   "source": [
    "latest_bdi = get_latest_file_glob('data/corona_lab_tests_ver_*.csv.gz')\n",
    "bdi = pd.read_csv(latest_bdi, encoding='utf-8', parse_dates=[0,1])"
   ]
  },
  {
   "cell_type": "code",
   "execution_count": 318,
   "metadata": {},
   "outputs": [],
   "source": [
    "bdi['orig_test_date'] = bdi.test_date\n",
    "bdi['test_date'] = bdi.test_date.combine_first(bdi.result_date)"
   ]
  },
  {
   "cell_type": "code",
   "execution_count": 320,
   "metadata": {},
   "outputs": [
    {
     "data": {
      "text/html": [
       "<div>\n",
       "<style scoped>\n",
       "    .dataframe tbody tr th:only-of-type {\n",
       "        vertical-align: middle;\n",
       "    }\n",
       "\n",
       "    .dataframe tbody tr th {\n",
       "        vertical-align: top;\n",
       "    }\n",
       "\n",
       "    .dataframe thead th {\n",
       "        text-align: right;\n",
       "    }\n",
       "</style>\n",
       "<table border=\"1\" class=\"dataframe\">\n",
       "  <thead>\n",
       "    <tr style=\"text-align: right;\">\n",
       "      <th></th>\n",
       "      <th>test_date</th>\n",
       "      <th>result_date</th>\n",
       "      <th>corona_result</th>\n",
       "      <th>lab_id</th>\n",
       "      <th>test_for_corona_diagnosis</th>\n",
       "      <th>is_first_Test</th>\n",
       "      <th>orig_test_date</th>\n",
       "    </tr>\n",
       "  </thead>\n",
       "  <tbody>\n",
       "    <tr>\n",
       "      <td>0</td>\n",
       "      <td>2020-03-18</td>\n",
       "      <td>2020-03-18</td>\n",
       "      <td>חיובי</td>\n",
       "      <td>32</td>\n",
       "      <td>1</td>\n",
       "      <td>Yes</td>\n",
       "      <td>NaT</td>\n",
       "    </tr>\n",
       "    <tr>\n",
       "      <td>1</td>\n",
       "      <td>2020-03-18</td>\n",
       "      <td>2020-03-18</td>\n",
       "      <td>חיובי</td>\n",
       "      <td>1</td>\n",
       "      <td>1</td>\n",
       "      <td>Yes</td>\n",
       "      <td>NaT</td>\n",
       "    </tr>\n",
       "    <tr>\n",
       "      <td>2</td>\n",
       "      <td>2020-03-20</td>\n",
       "      <td>2020-03-20</td>\n",
       "      <td>שלילי</td>\n",
       "      <td>4</td>\n",
       "      <td>1</td>\n",
       "      <td>No</td>\n",
       "      <td>NaT</td>\n",
       "    </tr>\n",
       "    <tr>\n",
       "      <td>3</td>\n",
       "      <td>2020-03-20</td>\n",
       "      <td>2020-03-20</td>\n",
       "      <td>שלילי</td>\n",
       "      <td>4</td>\n",
       "      <td>1</td>\n",
       "      <td>No</td>\n",
       "      <td>NaT</td>\n",
       "    </tr>\n",
       "    <tr>\n",
       "      <td>4</td>\n",
       "      <td>2020-03-20</td>\n",
       "      <td>2020-03-20</td>\n",
       "      <td>שלילי</td>\n",
       "      <td>4</td>\n",
       "      <td>1</td>\n",
       "      <td>Yes</td>\n",
       "      <td>NaT</td>\n",
       "    </tr>\n",
       "  </tbody>\n",
       "</table>\n",
       "</div>"
      ],
      "text/plain": [
       "   test_date result_date corona_result  lab_id  test_for_corona_diagnosis  \\\n",
       "0 2020-03-18  2020-03-18         חיובי      32                          1   \n",
       "1 2020-03-18  2020-03-18         חיובי       1                          1   \n",
       "2 2020-03-20  2020-03-20         שלילי       4                          1   \n",
       "3 2020-03-20  2020-03-20         שלילי       4                          1   \n",
       "4 2020-03-20  2020-03-20         שלילי       4                          1   \n",
       "\n",
       "  is_first_Test orig_test_date  \n",
       "0           Yes            NaT  \n",
       "1           Yes            NaT  \n",
       "2            No            NaT  \n",
       "3            No            NaT  \n",
       "4           Yes            NaT  "
      ]
     },
     "execution_count": 320,
     "metadata": {},
     "output_type": "execute_result"
    }
   ],
   "source": [
    "bdi.head()"
   ]
  },
  {
   "cell_type": "raw",
   "metadata": {
    "colab": {
     "base_uri": "https://localhost:8080/",
     "height": 203
    },
    "colab_type": "code",
    "id": "sq92Rycp8K2B",
    "outputId": "22042338-0ddb-418a-afdb-278e1e9d6789"
   },
   "source": [
    "try:\n",
    "    bdi['test_date'] = bdi.test_date.apply(pd.to_datetime, format='%Y-%m-%d')\n",
    "    bdi['result_date'] = bdi.result_date.apply(pd.to_datetime, format='%Y-%m-%d')\n",
    "except ValueError:\n",
    "    bdi['test_date'] = bdi.test_date.apply(pd.to_datetime, format='%m/%d/%Y')\n",
    "    bdi['result_date'] = bdi.result_date.apply(pd.to_datetime, format='%m/%d/%Y')\n",
    "except ValueError:\n",
    "    bdi['test_date'] = bdi.test_date.apply(pd.to_datetime, format='%d/%m/%Y')\n",
    "    bdi['result_date'] = bdi.result_date.apply(pd.to_datetime, format='%d/%m/%Y')\n",
    "bdi.head()"
   ]
  },
  {
   "cell_type": "code",
   "execution_count": 321,
   "metadata": {},
   "outputs": [
    {
     "data": {
      "text/plain": [
       "(2564190, 7)"
      ]
     },
     "execution_count": 321,
     "metadata": {},
     "output_type": "execute_result"
    }
   ],
   "source": [
    "bdi.shape"
   ]
  },
  {
   "cell_type": "code",
   "execution_count": 322,
   "metadata": {
    "colab": {
     "base_uri": "https://localhost:8080/",
     "height": 137
    },
    "colab_type": "code",
    "id": "0YH10E51J6Hd",
    "outputId": "97d9bb00-b2b4-4877-f8ea-2c9742e51832"
   },
   "outputs": [
    {
     "data": {
      "text/plain": [
       "שלילי               2344637\n",
       "חיובי                170779\n",
       "לא בוצע/פסול 999      25443\n",
       "חיובי גבולי           22308\n",
       "בעבודה                  625\n",
       "לא ודאי                 398\n",
       "Name: corona_result, dtype: int64"
      ]
     },
     "execution_count": 322,
     "metadata": {},
     "output_type": "execute_result"
    }
   ],
   "source": [
    "bdi.corona_result.value_counts()"
   ]
  },
  {
   "cell_type": "code",
   "execution_count": 323,
   "metadata": {
    "colab": {
     "base_uri": "https://localhost:8080/",
     "height": 86
    },
    "colab_type": "code",
    "id": "nCncDl-_hy-c",
    "outputId": "2b622a37-5c95-4433-aee2-e60049063f7e"
   },
   "outputs": [
    {
     "data": {
      "text/plain": [
       "שלילי    1432112\n",
       "חיובי     100401\n",
       "אחר        20020\n",
       "Name: corona_result, dtype: int64"
      ]
     },
     "execution_count": 323,
     "metadata": {},
     "output_type": "execute_result"
    }
   ],
   "source": [
    "niv.corona_result.value_counts()"
   ]
  },
  {
   "cell_type": "code",
   "execution_count": 324,
   "metadata": {
    "colab": {
     "base_uri": "https://localhost:8080/",
     "height": 86
    },
    "colab_type": "code",
    "id": "pyvCumeYCgDd",
    "outputId": "6a8b1ae4-b935-44a5-9249-9525b5837f5f"
   },
   "outputs": [
    {
     "data": {
      "text/plain": [
       "Other                     1456167\n",
       "Contact with confirmed      69916\n",
       "Abroad                      26450\n",
       "Name: test_indication, dtype: int64"
      ]
     },
     "execution_count": 324,
     "metadata": {},
     "output_type": "execute_result"
    }
   ],
   "source": [
    "niv.test_indication.value_counts()"
   ]
  },
  {
   "cell_type": "code",
   "execution_count": 325,
   "metadata": {
    "colab": {
     "base_uri": "https://localhost:8080/",
     "height": 68
    },
    "colab_type": "code",
    "id": "cGAG9O3Gru2b",
    "outputId": "cbcf39b4-de61-4774-a0b8-bf77357c88b9"
   },
   "outputs": [
    {
     "data": {
      "text/plain": [
       "No     918152\n",
       "Yes    137722\n",
       "Name: age_60_and_above, dtype: int64"
      ]
     },
     "execution_count": 325,
     "metadata": {},
     "output_type": "execute_result"
    }
   ],
   "source": [
    "niv.age_60_and_above.value_counts()"
   ]
  },
  {
   "cell_type": "code",
   "execution_count": 326,
   "metadata": {
    "colab": {},
    "colab_type": "code",
    "id": "HqJ5TFN3MN6m"
   },
   "outputs": [],
   "source": [
    "niv.loc[(niv.test_indication=='Other') & (niv.no_symp), 'test_indication'] = 'Other-Unknown'\n",
    "niv.loc[(niv.test_indication=='Other-Unknown') & (niv.age_60_and_above=='Yes'), 'test_indication'] = 'Other-60_above'\n",
    "niv.loc[(niv.test_indication=='Other') & (~niv.no_symp), 'test_indication'] = 'Other-Symptoms'"
   ]
  },
  {
   "cell_type": "code",
   "execution_count": null,
   "metadata": {
    "colab": {},
    "colab_type": "code",
    "id": "owl2marRu6g_"
   },
   "outputs": [],
   "source": []
  },
  {
   "cell_type": "code",
   "execution_count": 327,
   "metadata": {
    "colab": {},
    "colab_type": "code",
    "id": "Senza6x-JmXv"
   },
   "outputs": [],
   "source": [
    "result_map = {\n",
    "    'חיובי': 'positive',\n",
    "    'שלילי': 'negative',\n",
    "    'אחר': 'other',\n",
    "    'לא בוצע': 'not_done',\n",
    "    'בעבודה': 'in_progress',\n",
    "    'לא ודאי': 'uncertain',\n",
    "}\n",
    "niv['corona_result'] = niv.corona_result.map(result_map)\n"
   ]
  },
  {
   "cell_type": "code",
   "execution_count": 328,
   "metadata": {
    "colab": {},
    "colab_type": "code",
    "id": "VcSQcBACiazN"
   },
   "outputs": [],
   "source": [
    "bdi['corona_result'] = bdi.corona_result.map(result_map)"
   ]
  },
  {
   "cell_type": "code",
   "execution_count": 329,
   "metadata": {
    "colab": {
     "base_uri": "https://localhost:8080/",
     "height": 203
    },
    "colab_type": "code",
    "id": "WyWlMjX9kBtl",
    "outputId": "4c7abf63-b49e-4871-cd8c-41efa9b6c82e"
   },
   "outputs": [
    {
     "data": {
      "text/html": [
       "<div>\n",
       "<style scoped>\n",
       "    .dataframe tbody tr th:only-of-type {\n",
       "        vertical-align: middle;\n",
       "    }\n",
       "\n",
       "    .dataframe tbody tr th {\n",
       "        vertical-align: top;\n",
       "    }\n",
       "\n",
       "    .dataframe thead th {\n",
       "        text-align: right;\n",
       "    }\n",
       "</style>\n",
       "<table border=\"1\" class=\"dataframe\">\n",
       "  <thead>\n",
       "    <tr style=\"text-align: right;\">\n",
       "      <th></th>\n",
       "      <th>days_between_pos_and_neg</th>\n",
       "      <th>total_tests_count</th>\n",
       "      <th>age_group</th>\n",
       "      <th>gender</th>\n",
       "      <th>test_indication</th>\n",
       "    </tr>\n",
       "  </thead>\n",
       "  <tbody>\n",
       "    <tr>\n",
       "      <td>0</td>\n",
       "      <td>19</td>\n",
       "      <td>9</td>\n",
       "      <td>40-49</td>\n",
       "      <td>זכר</td>\n",
       "      <td>Abroad</td>\n",
       "    </tr>\n",
       "    <tr>\n",
       "      <td>1</td>\n",
       "      <td>22</td>\n",
       "      <td>9</td>\n",
       "      <td>30-39</td>\n",
       "      <td>זכר</td>\n",
       "      <td>Contact with confirmed</td>\n",
       "    </tr>\n",
       "    <tr>\n",
       "      <td>2</td>\n",
       "      <td>26</td>\n",
       "      <td>9</td>\n",
       "      <td>30-39</td>\n",
       "      <td>זכר</td>\n",
       "      <td>Contact with confirmed</td>\n",
       "    </tr>\n",
       "    <tr>\n",
       "      <td>3</td>\n",
       "      <td>28</td>\n",
       "      <td>9</td>\n",
       "      <td>30-39</td>\n",
       "      <td>נקבה</td>\n",
       "      <td>Abroad</td>\n",
       "    </tr>\n",
       "    <tr>\n",
       "      <td>4</td>\n",
       "      <td>23</td>\n",
       "      <td>9</td>\n",
       "      <td>20-29</td>\n",
       "      <td>נקבה</td>\n",
       "      <td>Contact with confirmed</td>\n",
       "    </tr>\n",
       "  </tbody>\n",
       "</table>\n",
       "</div>"
      ],
      "text/plain": [
       "   days_between_pos_and_neg total_tests_count age_group gender  \\\n",
       "0                        19                 9     40-49    זכר   \n",
       "1                        22                 9     30-39    זכר   \n",
       "2                        26                 9     30-39    זכר   \n",
       "3                        28                 9     30-39   נקבה   \n",
       "4                        23                 9     20-29   נקבה   \n",
       "\n",
       "          test_indication  \n",
       "0                  Abroad  \n",
       "1  Contact with confirmed  \n",
       "2  Contact with confirmed  \n",
       "3                  Abroad  \n",
       "4  Contact with confirmed  "
      ]
     },
     "execution_count": 329,
     "metadata": {},
     "output_type": "execute_result"
    }
   ],
   "source": [
    "rec = pd.read_csv(get_latest_file_glob('data/corona_recovered_ver_*.csv.gz'), encoding='utf-8-sig')\n",
    "rec = rec.iloc[:, 0:5]\n",
    "rec.head()"
   ]
  },
  {
   "cell_type": "code",
   "execution_count": 330,
   "metadata": {
    "colab": {
     "base_uri": "https://localhost:8080/",
     "height": 326
    },
    "colab_type": "code",
    "id": "ti9ViZBBlGFs",
    "outputId": "8695ac59-fb9b-4e39-ff7c-9b9f2dbcccbc"
   },
   "outputs": [
    {
     "data": {
      "text/html": [
       "<div>\n",
       "<style scoped>\n",
       "    .dataframe tbody tr th:only-of-type {\n",
       "        vertical-align: middle;\n",
       "    }\n",
       "\n",
       "    .dataframe tbody tr th {\n",
       "        vertical-align: top;\n",
       "    }\n",
       "\n",
       "    .dataframe thead th {\n",
       "        text-align: right;\n",
       "    }\n",
       "</style>\n",
       "<table border=\"1\" class=\"dataframe\">\n",
       "  <thead>\n",
       "    <tr style=\"text-align: right;\">\n",
       "      <th></th>\n",
       "      <th>total_tests_count</th>\n",
       "      <th>size</th>\n",
       "      <th>min</th>\n",
       "      <th>max</th>\n",
       "      <th>mean</th>\n",
       "      <th>median</th>\n",
       "      <th>test_sum</th>\n",
       "    </tr>\n",
       "  </thead>\n",
       "  <tbody>\n",
       "    <tr>\n",
       "      <td>0</td>\n",
       "      <td>2</td>\n",
       "      <td>6</td>\n",
       "      <td>6</td>\n",
       "      <td>17</td>\n",
       "      <td>12.833333</td>\n",
       "      <td>13</td>\n",
       "      <td>12</td>\n",
       "    </tr>\n",
       "    <tr>\n",
       "      <td>1</td>\n",
       "      <td>3</td>\n",
       "      <td>11061</td>\n",
       "      <td>2</td>\n",
       "      <td>112</td>\n",
       "      <td>16.665582</td>\n",
       "      <td>17</td>\n",
       "      <td>33183</td>\n",
       "    </tr>\n",
       "    <tr>\n",
       "      <td>2</td>\n",
       "      <td>4</td>\n",
       "      <td>5081</td>\n",
       "      <td>2</td>\n",
       "      <td>114</td>\n",
       "      <td>21.462114</td>\n",
       "      <td>21</td>\n",
       "      <td>20324</td>\n",
       "    </tr>\n",
       "    <tr>\n",
       "      <td>3</td>\n",
       "      <td>5</td>\n",
       "      <td>3127</td>\n",
       "      <td>2</td>\n",
       "      <td>106</td>\n",
       "      <td>24.647905</td>\n",
       "      <td>25</td>\n",
       "      <td>15635</td>\n",
       "    </tr>\n",
       "    <tr>\n",
       "      <td>4</td>\n",
       "      <td>6</td>\n",
       "      <td>1786</td>\n",
       "      <td>6</td>\n",
       "      <td>96</td>\n",
       "      <td>27.668533</td>\n",
       "      <td>27</td>\n",
       "      <td>10716</td>\n",
       "    </tr>\n",
       "    <tr>\n",
       "      <td>5</td>\n",
       "      <td>7</td>\n",
       "      <td>1063</td>\n",
       "      <td>8</td>\n",
       "      <td>108</td>\n",
       "      <td>30.398871</td>\n",
       "      <td>30</td>\n",
       "      <td>7441</td>\n",
       "    </tr>\n",
       "    <tr>\n",
       "      <td>6</td>\n",
       "      <td>8</td>\n",
       "      <td>597</td>\n",
       "      <td>3</td>\n",
       "      <td>103</td>\n",
       "      <td>33.475712</td>\n",
       "      <td>33</td>\n",
       "      <td>4776</td>\n",
       "    </tr>\n",
       "    <tr>\n",
       "      <td>7</td>\n",
       "      <td>9</td>\n",
       "      <td>357</td>\n",
       "      <td>3</td>\n",
       "      <td>78</td>\n",
       "      <td>35.700280</td>\n",
       "      <td>35</td>\n",
       "      <td>3213</td>\n",
       "    </tr>\n",
       "    <tr>\n",
       "      <td>8</td>\n",
       "      <td>10</td>\n",
       "      <td>573</td>\n",
       "      <td>5</td>\n",
       "      <td>106</td>\n",
       "      <td>41.130890</td>\n",
       "      <td>41</td>\n",
       "      <td>5730</td>\n",
       "    </tr>\n",
       "  </tbody>\n",
       "</table>\n",
       "</div>"
      ],
      "text/plain": [
       "   total_tests_count   size  min  max       mean  median  test_sum\n",
       "0                  2      6    6   17  12.833333      13        12\n",
       "1                  3  11061    2  112  16.665582      17     33183\n",
       "2                  4   5081    2  114  21.462114      21     20324\n",
       "3                  5   3127    2  106  24.647905      25     15635\n",
       "4                  6   1786    6   96  27.668533      27     10716\n",
       "5                  7   1063    8  108  30.398871      30      7441\n",
       "6                  8    597    3  103  33.475712      33      4776\n",
       "7                  9    357    3   78  35.700280      35      3213\n",
       "8                 10    573    5  106  41.130890      41      5730"
      ]
     },
     "execution_count": 330,
     "metadata": {},
     "output_type": "execute_result"
    }
   ],
   "source": [
    "x = (rec\n",
    " .assign(total_tests_count = lambda x: (x.fillna('3').total_tests_count\n",
    "                                .astype(str).str.replace('>=', '').str.replace('+', '')\n",
    "                                .astype(int)))\n",
    " .groupby('total_tests_count').days_between_pos_and_neg.agg(['size', 'min', 'max', 'mean', 'median'])\n",
    ").reset_index()\n",
    "x['test_sum'] = x.total_tests_count*x['size']\n",
    "x"
   ]
  },
  {
   "cell_type": "code",
   "execution_count": 331,
   "metadata": {},
   "outputs": [
    {
     "data": {
      "text/html": [
       "<div>\n",
       "<style scoped>\n",
       "    .dataframe tbody tr th:only-of-type {\n",
       "        vertical-align: middle;\n",
       "    }\n",
       "\n",
       "    .dataframe tbody tr th {\n",
       "        vertical-align: top;\n",
       "    }\n",
       "\n",
       "    .dataframe thead th {\n",
       "        text-align: right;\n",
       "    }\n",
       "</style>\n",
       "<table border=\"1\" class=\"dataframe\">\n",
       "  <thead>\n",
       "    <tr style=\"text-align: right;\">\n",
       "      <th></th>\n",
       "      <th>index</th>\n",
       "      <th>total_tests_count</th>\n",
       "    </tr>\n",
       "  </thead>\n",
       "  <tbody>\n",
       "    <tr>\n",
       "      <td>0</td>\n",
       "      <td>size</td>\n",
       "      <td>23651.000000</td>\n",
       "    </tr>\n",
       "    <tr>\n",
       "      <td>1</td>\n",
       "      <td>min</td>\n",
       "      <td>2.000000</td>\n",
       "    </tr>\n",
       "    <tr>\n",
       "      <td>2</td>\n",
       "      <td>max</td>\n",
       "      <td>12.000000</td>\n",
       "    </tr>\n",
       "    <tr>\n",
       "      <td>3</td>\n",
       "      <td>mean</td>\n",
       "      <td>4.320156</td>\n",
       "    </tr>\n",
       "    <tr>\n",
       "      <td>4</td>\n",
       "      <td>median</td>\n",
       "      <td>4.000000</td>\n",
       "    </tr>\n",
       "  </tbody>\n",
       "</table>\n",
       "</div>"
      ],
      "text/plain": [
       "    index  total_tests_count\n",
       "0    size       23651.000000\n",
       "1     min           2.000000\n",
       "2     max          12.000000\n",
       "3    mean           4.320156\n",
       "4  median           4.000000"
      ]
     },
     "execution_count": 331,
     "metadata": {},
     "output_type": "execute_result"
    }
   ],
   "source": [
    "(rec\n",
    " .assign(total_tests_count = lambda x: (x.fillna('3').total_tests_count\n",
    "                                .astype(str).str.replace('>=', '').str.replace('10+', '11').replace('11+', '12')\n",
    "                                .astype(int)))\n",
    " .total_tests_count.agg(['size', 'min', 'max', 'mean', 'median'])\n",
    ").reset_index()"
   ]
  },
  {
   "cell_type": "code",
   "execution_count": 332,
   "metadata": {},
   "outputs": [
    {
     "data": {
      "text/html": [
       "<div>\n",
       "<style scoped>\n",
       "    .dataframe tbody tr th:only-of-type {\n",
       "        vertical-align: middle;\n",
       "    }\n",
       "\n",
       "    .dataframe tbody tr th {\n",
       "        vertical-align: top;\n",
       "    }\n",
       "\n",
       "    .dataframe thead th {\n",
       "        text-align: right;\n",
       "    }\n",
       "</style>\n",
       "<table border=\"1\" class=\"dataframe\">\n",
       "  <thead>\n",
       "    <tr style=\"text-align: right;\">\n",
       "      <th></th>\n",
       "      <th>days_between_pos_and_neg</th>\n",
       "      <th>total_tests_count</th>\n",
       "      <th>age_group</th>\n",
       "      <th>gender</th>\n",
       "      <th>test_indication</th>\n",
       "    </tr>\n",
       "  </thead>\n",
       "  <tbody>\n",
       "    <tr>\n",
       "      <td>9432</td>\n",
       "      <td>114</td>\n",
       "      <td>4</td>\n",
       "      <td>60+</td>\n",
       "      <td>זכר</td>\n",
       "      <td>Other</td>\n",
       "    </tr>\n",
       "    <tr>\n",
       "      <td>12342</td>\n",
       "      <td>112</td>\n",
       "      <td>3</td>\n",
       "      <td>30-39</td>\n",
       "      <td>זכר</td>\n",
       "      <td>Contact with confirmed</td>\n",
       "    </tr>\n",
       "    <tr>\n",
       "      <td>9304</td>\n",
       "      <td>111</td>\n",
       "      <td>4</td>\n",
       "      <td>20-29</td>\n",
       "      <td>זכר</td>\n",
       "      <td>Other</td>\n",
       "    </tr>\n",
       "    <tr>\n",
       "      <td>1600</td>\n",
       "      <td>108</td>\n",
       "      <td>7</td>\n",
       "      <td>40-49</td>\n",
       "      <td>נקבה</td>\n",
       "      <td>Contact with confirmed</td>\n",
       "    </tr>\n",
       "    <tr>\n",
       "      <td>6311</td>\n",
       "      <td>106</td>\n",
       "      <td>5</td>\n",
       "      <td>30-39</td>\n",
       "      <td>זכר</td>\n",
       "      <td>Contact with confirmed</td>\n",
       "    </tr>\n",
       "    <tr>\n",
       "      <td>23175</td>\n",
       "      <td>106</td>\n",
       "      <td>10+</td>\n",
       "      <td>0-19</td>\n",
       "      <td>נקבה</td>\n",
       "      <td>Contact with confirmed</td>\n",
       "    </tr>\n",
       "    <tr>\n",
       "      <td>9696</td>\n",
       "      <td>105</td>\n",
       "      <td>4</td>\n",
       "      <td>30-39</td>\n",
       "      <td>נקבה</td>\n",
       "      <td>Other</td>\n",
       "    </tr>\n",
       "    <tr>\n",
       "      <td>456</td>\n",
       "      <td>103</td>\n",
       "      <td>8</td>\n",
       "      <td>50-59</td>\n",
       "      <td>נקבה</td>\n",
       "      <td>Contact with confirmed</td>\n",
       "    </tr>\n",
       "    <tr>\n",
       "      <td>20936</td>\n",
       "      <td>103</td>\n",
       "      <td>3</td>\n",
       "      <td>0-19</td>\n",
       "      <td>זכר</td>\n",
       "      <td>Abroad</td>\n",
       "    </tr>\n",
       "    <tr>\n",
       "      <td>23273</td>\n",
       "      <td>100</td>\n",
       "      <td>10+</td>\n",
       "      <td>60+</td>\n",
       "      <td>זכר</td>\n",
       "      <td>Contact with confirmed</td>\n",
       "    </tr>\n",
       "  </tbody>\n",
       "</table>\n",
       "</div>"
      ],
      "text/plain": [
       "       days_between_pos_and_neg total_tests_count age_group gender  \\\n",
       "9432                        114                 4       60+    זכר   \n",
       "12342                       112                 3     30-39    זכר   \n",
       "9304                        111                 4     20-29    זכר   \n",
       "1600                        108                 7     40-49   נקבה   \n",
       "6311                        106                 5     30-39    זכר   \n",
       "23175                       106               10+      0-19   נקבה   \n",
       "9696                        105                 4     30-39   נקבה   \n",
       "456                         103                 8     50-59   נקבה   \n",
       "20936                       103                 3      0-19    זכר   \n",
       "23273                       100               10+       60+    זכר   \n",
       "\n",
       "              test_indication  \n",
       "9432                    Other  \n",
       "12342  Contact with confirmed  \n",
       "9304                    Other  \n",
       "1600   Contact with confirmed  \n",
       "6311   Contact with confirmed  \n",
       "23175  Contact with confirmed  \n",
       "9696                    Other  \n",
       "456    Contact with confirmed  \n",
       "20936                  Abroad  \n",
       "23273  Contact with confirmed  "
      ]
     },
     "execution_count": 332,
     "metadata": {},
     "output_type": "execute_result"
    }
   ],
   "source": [
    "rec.iloc[rec.days_between_pos_and_neg.nlargest(10).index]\n"
   ]
  },
  {
   "cell_type": "code",
   "execution_count": 333,
   "metadata": {},
   "outputs": [
    {
     "data": {
      "text/plain": [
       "<matplotlib.axes._subplots.AxesSubplot at 0x1da88dd72c8>"
      ]
     },
     "execution_count": 333,
     "metadata": {},
     "output_type": "execute_result"
    },
    {
     "data": {
      "image/png": "[encoded data removed]",
      "text/plain": [
       "<Figure size 432x288 with 1 Axes>"
      ]
     },
     "metadata": {},
     "output_type": "display_data"
    }
   ],
   "source": [
    "rec.days_between_pos_and_neg.hist(bins=30)"
   ]
  },
  {
   "cell_type": "code",
   "execution_count": 334,
   "metadata": {
    "colab": {
     "base_uri": "https://localhost:8080/",
     "height": 203
    },
    "colab_type": "code",
    "id": "uznzC8y7_42V",
    "outputId": "6763b4fe-b718-4313-f616-3dac7d63f377"
   },
   "outputs": [
    {
     "data": {
      "text/html": [
       "<div>\n",
       "<style scoped>\n",
       "    .dataframe tbody tr th:only-of-type {\n",
       "        vertical-align: middle;\n",
       "    }\n",
       "\n",
       "    .dataframe tbody tr th {\n",
       "        vertical-align: top;\n",
       "    }\n",
       "\n",
       "    .dataframe thead th {\n",
       "        text-align: right;\n",
       "    }\n",
       "</style>\n",
       "<table border=\"1\" class=\"dataframe\">\n",
       "  <thead>\n",
       "    <tr style=\"text-align: right;\">\n",
       "      <th></th>\n",
       "      <th>date</th>\n",
       "      <th>isolated_today_contact_with_confirmed</th>\n",
       "      <th>isolated_today_abroad</th>\n",
       "      <th>new_contact_with_confirmed</th>\n",
       "      <th>new_from_abroad</th>\n",
       "    </tr>\n",
       "  </thead>\n",
       "  <tbody>\n",
       "    <tr>\n",
       "      <td>0</td>\n",
       "      <td>2020-09-02</td>\n",
       "      <td>58001</td>\n",
       "      <td>28137</td>\n",
       "      <td>8290</td>\n",
       "      <td>2187</td>\n",
       "    </tr>\n",
       "    <tr>\n",
       "      <td>1</td>\n",
       "      <td>2020-09-01</td>\n",
       "      <td>55504</td>\n",
       "      <td>27455</td>\n",
       "      <td>9175</td>\n",
       "      <td>2003</td>\n",
       "    </tr>\n",
       "    <tr>\n",
       "      <td>2</td>\n",
       "      <td>2020-08-31</td>\n",
       "      <td>51971</td>\n",
       "      <td>27185</td>\n",
       "      <td>8223</td>\n",
       "      <td>2546</td>\n",
       "    </tr>\n",
       "    <tr>\n",
       "      <td>3</td>\n",
       "      <td>2020-08-30</td>\n",
       "      <td>49218</td>\n",
       "      <td>26041</td>\n",
       "      <td>7943</td>\n",
       "      <td>3081</td>\n",
       "    </tr>\n",
       "    <tr>\n",
       "      <td>4</td>\n",
       "      <td>2020-08-29</td>\n",
       "      <td>45904</td>\n",
       "      <td>23745</td>\n",
       "      <td>4234</td>\n",
       "      <td>1080</td>\n",
       "    </tr>\n",
       "  </tbody>\n",
       "</table>\n",
       "</div>"
      ],
      "text/plain": [
       "         date  isolated_today_contact_with_confirmed  isolated_today_abroad  \\\n",
       "0  2020-09-02                                  58001                  28137   \n",
       "1  2020-09-01                                  55504                  27455   \n",
       "2  2020-08-31                                  51971                  27185   \n",
       "3  2020-08-30                                  49218                  26041   \n",
       "4  2020-08-29                                  45904                  23745   \n",
       "\n",
       "  new_contact_with_confirmed new_from_abroad  \n",
       "0                       8290            2187  \n",
       "1                       9175            2003  \n",
       "2                       8223            2546  \n",
       "3                       7943            3081  \n",
       "4                       4234            1080  "
      ]
     },
     "execution_count": 334,
     "metadata": {},
     "output_type": "execute_result"
    }
   ],
   "source": [
    "iso = pd.read_csv(get_latest_file_glob('data/corona_isolation_per_day_ver_*.csv.gz'),\n",
    "                  encoding='utf-8-sig', low_memory=False)\n",
    "iso.head()"
   ]
  },
  {
   "cell_type": "code",
   "execution_count": 335,
   "metadata": {
    "colab": {
     "base_uri": "https://localhost:8080/",
     "height": 240
    },
    "colab_type": "code",
    "id": "HGktyCHnAAFb",
    "outputId": "4662303b-83ae-4459-a540-19add23984d8"
   },
   "outputs": [
    {
     "data": {
      "text/plain": [
       "test_date              datetime64[ns]\n",
       "cough                           int64\n",
       "fever                           int64\n",
       "sore_throat                     int64\n",
       "shortness_of_breath             int64\n",
       "head_ache                       int64\n",
       "corona_result                  object\n",
       "age_60_and_above               object\n",
       "gender                         object\n",
       "test_indication                object\n",
       "symp_num                        int32\n",
       "no_symp                          bool\n",
       "dtype: object"
      ]
     },
     "execution_count": 335,
     "metadata": {},
     "output_type": "execute_result"
    }
   ],
   "source": [
    "niv.dtypes"
   ]
  },
  {
   "cell_type": "code",
   "execution_count": 336,
   "metadata": {
    "colab": {
     "base_uri": "https://localhost:8080/",
     "height": 68
    },
    "colab_type": "code",
    "id": "K7mT3ZQgNV_e",
    "outputId": "6757dae1-81e9-40a8-c358-2d4cb15c5654"
   },
   "outputs": [
    {
     "data": {
      "text/plain": [
       "No     918152\n",
       "Yes    137722\n",
       "Name: age_60_and_above, dtype: int64"
      ]
     },
     "execution_count": 336,
     "metadata": {},
     "output_type": "execute_result"
    }
   ],
   "source": [
    "niv.age_60_and_above.value_counts()"
   ]
  },
  {
   "cell_type": "code",
   "execution_count": 337,
   "metadata": {
    "colab": {
     "base_uri": "https://localhost:8080/",
     "height": 313
    },
    "colab_type": "code",
    "id": "A7ou6Uwb5v4f",
    "outputId": "3b38dffd-09e7-430e-aca5-7b354d6b9cad"
   },
   "outputs": [
    {
     "data": {
      "text/plain": [
       "<matplotlib.axes._subplots.AxesSubplot at 0x1da88e89b08>"
      ]
     },
     "execution_count": 337,
     "metadata": {},
     "output_type": "execute_result"
    },
    {
     "data": {
      "image/png": "[encoded data removed]",
      "text/plain": [
       "<Figure size 432x288 with 1 Axes>"
      ]
     },
     "metadata": {},
     "output_type": "display_data"
    }
   ],
   "source": [
    "niv.groupby('test_date')[symptom_cols].sum().plot()"
   ]
  },
  {
   "cell_type": "code",
   "execution_count": 338,
   "metadata": {
    "colab": {
     "base_uri": "https://localhost:8080/",
     "height": 313
    },
    "colab_type": "code",
    "id": "TUiXZm_uA_9P",
    "outputId": "8566b337-9ccf-4f8a-b51c-bc226ea9c7fd"
   },
   "outputs": [
    {
     "data": {
      "text/plain": [
       "<matplotlib.axes._subplots.AxesSubplot at 0x1da8b049108>"
      ]
     },
     "execution_count": 338,
     "metadata": {},
     "output_type": "execute_result"
    },
    {
     "data": {
      "image/png": "[encoded data removed]",
      "text/plain": [
       "<Figure size 432x288 with 1 Axes>"
      ]
     },
     "metadata": {},
     "output_type": "display_data"
    }
   ],
   "source": [
    "sn = niv.groupby(['test_date', 'symp_num']).size().unstack()\n",
    "(sn.div(sn.sum(axis=1), axis=0)).plot()"
   ]
  },
  {
   "cell_type": "code",
   "execution_count": 339,
   "metadata": {
    "colab": {
     "base_uri": "https://localhost:8080/",
     "height": 477
    },
    "colab_type": "code",
    "id": "__zPwIO95JSQ",
    "outputId": "675c1f51-47e2-44ba-a967-29a3f67679d2"
   },
   "outputs": [
    {
     "data": {
      "text/plain": [
       "<matplotlib.axes._subplots.AxesSubplot at 0x1da8b109c48>"
      ]
     },
     "execution_count": 339,
     "metadata": {},
     "output_type": "execute_result"
    },
    {
     "data": {
      "image/png": "[encoded data removed]",
      "text/plain": [
       "<Figure size 720x504 with 1 Axes>"
      ]
     },
     "metadata": {},
     "output_type": "display_data"
    }
   ],
   "source": [
    "ti = niv.groupby(['test_date', 'test_indication']).size().unstack()\n",
    "(ti.div(ti.sum(axis=1), axis=0)).plot(figsize=(10,7))"
   ]
  },
  {
   "cell_type": "code",
   "execution_count": 340,
   "metadata": {
    "colab": {
     "base_uri": "https://localhost:8080/",
     "height": 313
    },
    "colab_type": "code",
    "id": "_PyS74DOCaru",
    "outputId": "a376ed42-c54e-4668-c4a1-ae63e0acd4c8"
   },
   "outputs": [
    {
     "data": {
      "text/plain": [
       "<matplotlib.axes._subplots.AxesSubplot at 0x1da8b1de5c8>"
      ]
     },
     "execution_count": 340,
     "metadata": {},
     "output_type": "execute_result"
    },
    {
     "data": {
      "image/png": "[encoded data removed]",
      "text/plain": [
       "<Figure size 432x288 with 1 Axes>"
      ]
     },
     "metadata": {},
     "output_type": "display_data"
    }
   ],
   "source": [
    "niv[niv.corona_result!='other'].groupby(['test_date', 'corona_result']).size().unstack().plot()"
   ]
  },
  {
   "cell_type": "code",
   "execution_count": 341,
   "metadata": {
    "colab": {
     "base_uri": "https://localhost:8080/",
     "height": 120
    },
    "colab_type": "code",
    "id": "oKHefSLWGSyl",
    "outputId": "657cd224-fab8-40a9-aa31-1f7c1b6c1a19"
   },
   "outputs": [
    {
     "data": {
      "text/plain": [
       "test_date                    datetime64[ns]\n",
       "result_date                  datetime64[ns]\n",
       "corona_result                        object\n",
       "lab_id                                int64\n",
       "test_for_corona_diagnosis             int64\n",
       "is_first_Test                        object\n",
       "orig_test_date               datetime64[ns]\n",
       "dtype: object"
      ]
     },
     "execution_count": 341,
     "metadata": {},
     "output_type": "execute_result"
    }
   ],
   "source": [
    "bdi.dtypes"
   ]
  },
  {
   "cell_type": "code",
   "execution_count": 345,
   "metadata": {
    "colab": {
     "base_uri": "https://localhost:8080/",
     "height": 313
    },
    "colab_type": "code",
    "id": "dB73z_VEGiaz",
    "outputId": "a068317f-8a67-47a1-8a69-56eb4cb8b156"
   },
   "outputs": [
    {
     "data": {
      "text/plain": [
       "<matplotlib.axes._subplots.AxesSubplot at 0x1da8b50a448>"
      ]
     },
     "execution_count": 345,
     "metadata": {},
     "output_type": "execute_result"
    },
    {
     "data": {
      "image/png": "[encoded data removed]",
      "text/plain": [
       "<Figure size 432x288 with 1 Axes>"
      ]
     },
     "metadata": {},
     "output_type": "display_data"
    }
   ],
   "source": [
    "pd.concat([bdi[(bdi.test_date>'2020') & (bdi.corona_result.isin(['positive', 'negative'])) & (bdi.test_for_corona_diagnosis)].groupby(['test_date', 'corona_result']).size().unstack(),\n",
    "           niv[niv.corona_result!='other'].groupby(['test_date', 'corona_result']).size().unstack()], keys=['bdi', 'niv'], axis=1).plot()"
   ]
  },
  {
   "cell_type": "code",
   "execution_count": 346,
   "metadata": {
    "colab": {
     "base_uri": "https://localhost:8080/",
     "height": 313
    },
    "colab_type": "code",
    "id": "ahWl6D3HGl2V",
    "outputId": "11fb6dca-4757-48db-bb23-bb8e1b69c175"
   },
   "outputs": [
    {
     "data": {
      "text/plain": [
       "<matplotlib.axes._subplots.AxesSubplot at 0x1da8b5b4408>"
      ]
     },
     "execution_count": 346,
     "metadata": {},
     "output_type": "execute_result"
    },
    {
     "data": {
      "image/png": "[encoded data removed]",
      "text/plain": [
       "<Figure size 432x288 with 1 Axes>"
      ]
     },
     "metadata": {},
     "output_type": "display_data"
    }
   ],
   "source": [
    "bdi[(bdi.test_date<'2021') & (bdi.corona_result.isin(['positive', 'negative'])) & (bdi.test_for_corona_diagnosis)].groupby(['test_date', 'corona_result']).size().unstack().plot()"
   ]
  },
  {
   "cell_type": "code",
   "execution_count": null,
   "metadata": {
    "colab": {
     "base_uri": "https://localhost:8080/",
     "height": 511
    },
    "colab_type": "code",
    "id": "FggclgHBuD8X",
    "outputId": "80c15db9-9ddd-498b-bb02-3350cdd3b03d"
   },
   "outputs": [],
   "source": [
    "pone = bdi[(bdi.test_date<'2021') & (bdi.test_for_corona_diagnosis)].fillna('Other').groupby(['test_date', 'corona_result']).size().unstack()\n",
    "pone[pone.positive<20]"
   ]
  },
  {
   "cell_type": "code",
   "execution_count": null,
   "metadata": {
    "colab": {
     "base_uri": "https://localhost:8080/",
     "height": 234
    },
    "colab_type": "code",
    "id": "3c1gmcsrumgh",
    "outputId": "882cb0c5-b4d5-44d4-c3b7-236187d78435"
   },
   "outputs": [],
   "source": [
    "pone.tail(5)"
   ]
  },
  {
   "cell_type": "code",
   "execution_count": null,
   "metadata": {
    "colab": {
     "base_uri": "https://localhost:8080/",
     "height": 315
    },
    "colab_type": "code",
    "id": "Xf0sYgyJU60f",
    "outputId": "33fcb7bf-756e-4309-9935-0ae456acc932"
   },
   "outputs": [],
   "source": [
    "ti = bdi[(bdi.test_date>'2020') & (bdi.test_date<'2021')].groupby(['test_date', 'is_first_Test']).size().unstack()\n",
    "(ti.div(ti.sum(axis=1), axis=0)).plot()"
   ]
  },
  {
   "cell_type": "code",
   "execution_count": null,
   "metadata": {
    "colab": {
     "base_uri": "https://localhost:8080/",
     "height": 313
    },
    "colab_type": "code",
    "id": "HLhX9uXOWyab",
    "outputId": "dddf8fb7-5dc4-40ba-8d39-c0c6c92d7f5b"
   },
   "outputs": [],
   "source": [
    "ti.plot()"
   ]
  },
  {
   "cell_type": "code",
   "execution_count": null,
   "metadata": {
    "colab": {
     "base_uri": "https://localhost:8080/",
     "height": 313
    },
    "colab_type": "code",
    "id": "RWy852-ZLvg5",
    "outputId": "4ebe0fc7-3908-4e9f-b52f-462c94f6ffa7"
   },
   "outputs": [],
   "source": [
    "(bdi[(bdi.test_date>'2020') & (bdi.test_date<'2021')&(bdi.corona_result.isin(['positive', 'negative'])) & (bdi.test_for_corona_diagnosis)]\n",
    " .groupby(['test_date', 'corona_result']).size().unstack()\n",
    " .assign(positive_rate=lambda x: x.positive/(x.positive+x.negative))[['positive_rate']]\n",
    " .plot())"
   ]
  },
  {
   "cell_type": "code",
   "execution_count": null,
   "metadata": {
    "colab": {
     "base_uri": "https://localhost:8080/",
     "height": 234
    },
    "colab_type": "code",
    "id": "EDsfY0ciXVK3",
    "outputId": "00a9520c-1ca1-4d40-b793-c8656ebcadd9"
   },
   "outputs": [],
   "source": [
    "import altair as alt\n",
    "ti.tail()"
   ]
  },
  {
   "cell_type": "code",
   "execution_count": null,
   "metadata": {
    "colab": {
     "base_uri": "https://localhost:8080/",
     "height": 34
    },
    "colab_type": "code",
    "id": "TMBbVWKbdur2",
    "outputId": "c9db8e88-cae0-47b3-90a1-4e4ce646e3d8"
   },
   "outputs": [],
   "source": [
    "ti.Yes.sum() + ti.No.sum()"
   ]
  },
  {
   "cell_type": "code",
   "execution_count": null,
   "metadata": {
    "colab": {
     "base_uri": "https://localhost:8080/",
     "height": 368
    },
    "colab_type": "code",
    "id": "K5gcGT84wOox",
    "outputId": "4ecfdb63-86fc-45d6-8b8c-5b56cd6e0a41"
   },
   "outputs": [],
   "source": [
    "alt.Chart(ti.reset_index().assign(total=lambda x: (x.Yes+x.No))).mark_line().encode(\n",
    "    x='test_date',\n",
    "    y='total',\n",
    "    tooltip=['test_date', 'total']\n",
    ").interactive()"
   ]
  },
  {
   "cell_type": "code",
   "execution_count": null,
   "metadata": {
    "colab": {
     "base_uri": "https://localhost:8080/",
     "height": 363
    },
    "colab_type": "code",
    "id": "cGkqN8gAwl9B",
    "outputId": "cdf89fc1-d085-46bb-ddc5-246457035594"
   },
   "outputs": [],
   "source": [
    "pr = (bdi[(bdi.test_date>'2020') & (bdi.test_date<'2021')&(bdi.corona_result.isin(['positive', 'negative'])) & (bdi.test_for_corona_diagnosis)]\n",
    " .groupby(['test_date', 'corona_result']).size().unstack()\n",
    " .assign(positive_rate=lambda x: x.positive/(x.positive+x.negative)))\n",
    "\n",
    "alt.Chart(pr.reset_index()).mark_bar().encode(\n",
    "    x='test_date',\n",
    "    y='positive_rate',\n",
    "    tooltip=['test_date', 'positive_rate']\n",
    ").interactive()"
   ]
  },
  {
   "cell_type": "code",
   "execution_count": null,
   "metadata": {},
   "outputs": [],
   "source": [
    "alt.Chart(pr.reset_index()).mark_bar().encode(\n",
    "    x='test_date',\n",
    "    y='positive',\n",
    "    tooltip=['test_date', 'positive']\n",
    ").interactive()"
   ]
  },
  {
   "cell_type": "code",
   "execution_count": null,
   "metadata": {
    "colab": {
     "base_uri": "https://localhost:8080/",
     "height": 363
    },
    "colab_type": "code",
    "id": "cGkqN8gAwl9B",
    "outputId": "cdf89fc1-d085-46bb-ddc5-246457035594"
   },
   "outputs": [],
   "source": [
    "pr = (bdi[(bdi.test_date>'2020') & (bdi.test_date<'2021')&\n",
    "          (bdi.corona_result.isin(['positive', 'negative'])) \n",
    "          ]\n",
    " .groupby(['test_date', 'corona_result']).size().unstack()\n",
    " .assign(positive_rate=lambda x: x.positive/(x.positive+x.negative)))\n",
    "\n",
    "alt.Chart(pr.reset_index()).mark_bar().encode(\n",
    "    x='test_date',\n",
    "    y='positive_rate',\n",
    "    tooltip=['test_date', 'positive_rate']\n",
    ").interactive()"
   ]
  },
  {
   "cell_type": "code",
   "execution_count": null,
   "metadata": {
    "colab": {
     "base_uri": "https://localhost:8080/",
     "height": 377
    },
    "colab_type": "code",
    "id": "7I6bzCTK0xpU",
    "outputId": "9ede9efb-f863-4d86-c260-d69e70b38e33"
   },
   "outputs": [],
   "source": [
    "hos_cols = {'תאריך': 'date',\n",
    "            'חולים קשה': 'critical',\n",
    "            'חולים בינוני': 'medium',\n",
    "            'מונשמים': 'resp'}"
   ]
  },
  {
   "cell_type": "code",
   "execution_count": null,
   "metadata": {
    "colab": {
     "base_uri": "https://localhost:8080/",
     "height": 377
    },
    "colab_type": "code",
    "id": "7I6bzCTK0xpU",
    "outputId": "9ede9efb-f863-4d86-c260-d69e70b38e33"
   },
   "outputs": [],
   "source": [
    "hos = (pd.read_csv(get_latest_file_glob('data/corona_hospitalization_ver_*.csv.gz'), encoding='utf-8-sig', low_memory=False, na_values=['None'])\n",
    "      .rename(columns=hos_cols)\n",
    "      .assign(date = lambda x: x.date.apply(pd.to_datetime))\n",
    "      .assign(critical = lambda x: x.critical.str.replace('<15', '15').astype(int))\n",
    "      .assign(medium = lambda x: x.medium.fillna('<15').str.replace('<15', '15').astype(int))\n",
    "      .assign(resp = lambda x: x.resp.str.replace('<15', '15').astype(int)))\n",
    "#hos['test_date'] = hos.test_date.apply(pd.to_datetime, format='%Y-%m-%d')\n",
    "hos.head()"
   ]
  },
  {
   "cell_type": "code",
   "execution_count": null,
   "metadata": {
    "colab": {
     "base_uri": "https://localhost:8080/",
     "height": 316
    },
    "colab_type": "code",
    "id": "_zLITZkLApR2",
    "outputId": "ecc91c9f-f0c3-4481-f6dc-941b869ebc89"
   },
   "outputs": [],
   "source": [
    "(hos[['date', 'critical', 'resp', 'medium']].set_index('date').plot())"
   ]
  },
  {
   "cell_type": "code",
   "execution_count": null,
   "metadata": {
    "colab": {},
    "colab_type": "code",
    "id": "n4yWuBjiCD9S"
   },
   "outputs": [],
   "source": [
    "hos_and_rate = hos[['date', 'critical', 'resp', 'medium']].rename(columns={'date': 'test_date'}).merge(pr, on='test_date')\n",
    "hos_and_rate.head()\n"
   ]
  },
  {
   "cell_type": "code",
   "execution_count": null,
   "metadata": {},
   "outputs": [],
   "source": [
    "c1 = alt.Chart(hos_and_rate[hos_and_rate.positive_rate<0.115]\n",
    "               .assign(positive_rate = lambda x: x.positive_rate.ewm(span=7).mean())\n",
    "               .assign(positive_label ='positive_rate')).mark_line(color='cornflowerblue').encode(\n",
    "    x='test_date',\n",
    "    y='positive_rate',\n",
    "    tooltip=['test_date', 'positive_rate'],\n",
    "    shape='positive_label'\n",
    ")\n",
    "c2 = alt.Chart(hos_and_rate\n",
    "               .assign(critical_label='critical')\n",
    "               .assign(critical = lambda x: x.critical.ewm(span=7).mean())\n",
    "              ).mark_line(color='crimson').encode(\n",
    "    x='test_date',\n",
    "    y='critical',\n",
    "    tooltip=['test_date', 'critical'],\n",
    "    opacity='critical_label'\n",
    ")\n",
    "\n",
    "\n",
    "alt.layer(c1, c2).resolve_scale(y='independent').properties(title='Positive rate (smoothed, 7d) vs. critical hospitalizations (smoothed, 7d), by date')\n"
   ]
  },
  {
   "cell_type": "code",
   "execution_count": null,
   "metadata": {},
   "outputs": [],
   "source": [
    "c1 = alt.Chart(hos_and_rate[hos_and_rate.positive_rate<0.12]\n",
    "               .assign(positive = lambda x: x.positive.ewm(span=7).mean())\n",
    "               .assign(positive_label ='positive')).mark_line(color='cornflowerblue').encode(\n",
    "    x='test_date',\n",
    "    y='positive',\n",
    "    tooltip=['test_date', 'positive'],\n",
    "    shape='positive_label'\n",
    ")\n",
    "c2 = alt.Chart(hos_and_rate\n",
    "               .assign(critical_label='critical')\n",
    "               .assign(critical = lambda x: x.critical.ewm(span=7).mean())\n",
    "              ).mark_line(color='crimson').encode(\n",
    "    x='test_date',\n",
    "    y='critical',\n",
    "    tooltip=['test_date', 'critical'],\n",
    "    opacity='critical_label'\n",
    ")\n",
    "\n",
    "\n",
    "alt.layer(c1, c2).resolve_scale(y='independent').properties(title='Positives (smoothed, 7d) vs. critical hospitalizations (smoothed, 7d), by date')\n"
   ]
  },
  {
   "cell_type": "code",
   "execution_count": null,
   "metadata": {},
   "outputs": [],
   "source": [
    "sns.lineplot(data=hos_and_rate[hos_and_rate.positive_rate<0.12].set_index('test_date').positive_rate, color=\"g\")\n",
    "ax2 = plt.twinx()\n",
    "sns.lineplot(data=hos_and_rate.set_index('test_date').critical, color=\"b\", ax=ax2)\n",
    "ax2.figure.legend()\n"
   ]
  },
  {
   "cell_type": "code",
   "execution_count": null,
   "metadata": {},
   "outputs": [],
   "source": [
    "c1 = alt.Chart(hos_and_rate[hos_and_rate.positive_rate<0.115]\n",
    "               .assign(positive_rate = lambda x: x.positive_rate.ewm(span=7).mean())\n",
    "               .assign(positive_label ='positive_rate')).mark_line(color='cornflowerblue').encode(\n",
    "    x='test_date',\n",
    "    y='positive_rate',\n",
    "    tooltip=['test_date', 'positive_rate'],\n",
    "    shape='positive_label'\n",
    ")\n",
    "c2 = alt.Chart(hos_and_rate\n",
    "               .assign(critical_label='critical+med')\n",
    "               .assign(crit_med = lambda x: (x.critical+x.medium).ewm(span=7).mean())\n",
    "              ).mark_line(color='crimson').encode(\n",
    "    x='test_date',\n",
    "    y='crit_med',\n",
    "    tooltip=['test_date', 'critical'],\n",
    "    opacity='critical_label'\n",
    ")\n",
    "\n",
    "\n",
    "alt.layer(c1, c2).resolve_scale(y='independent').properties(title='Positive rate (smoothed, 7d) vs. critical hospitalizations (smoothed, 7d), by date')\n"
   ]
  },
  {
   "cell_type": "code",
   "execution_count": null,
   "metadata": {},
   "outputs": [],
   "source": [
    "hos_and_rate['pos_pct_change'] = hos_and_rate.positive_rate.pct_change()\n",
    "hos_and_rate['crit_pct_change'] = hos_and_rate.critical.pct_change()\n"
   ]
  },
  {
   "cell_type": "code",
   "execution_count": null,
   "metadata": {},
   "outputs": [],
   "source": [
    "c1 = alt.Chart(hos_and_rate\n",
    "               .assign(pos_pct_change = lambda x: x.pos_pct_change.ewm(span=7).mean())\n",
    "              ).mark_line(color='cornflowerblue').encode(\n",
    "    x='test_date',\n",
    "    y='pos_pct_change',\n",
    "    tooltip=['test_date', 'positive_rate'],\n",
    ")\n",
    "c2 = alt.Chart(hos_and_rate\n",
    "               .assign(crit_pct_change = lambda x: x.crit_pct_change.ewm(span=7).mean())\n",
    "              ).mark_line(color='crimson').encode(\n",
    "    x='test_date',\n",
    "    y='crit_pct_change',\n",
    "    tooltip=['test_date', 'critical'],\n",
    ")\n",
    "\n",
    "\n",
    "alt.layer(c1, c2).properties(title='Positive rate (smoothed, 7d) vs. critical hospitalizations (smoothed, 7d), by date')\n"
   ]
  },
  {
   "cell_type": "markdown",
   "metadata": {},
   "source": [
    "## Positive rate by Lab"
   ]
  },
  {
   "cell_type": "code",
   "execution_count": null,
   "metadata": {},
   "outputs": [],
   "source": [
    "polab = bdi[(bdi.test_date<'2021') & (bdi.test_for_corona_diagnosis)].fillna('Other').groupby(['test_date', 'lab_id', 'corona_result']).size().unstack().fillna(0)\n",
    "polab['total_tests'] = polab.sum(axis=1)\n",
    "polab['positive_rate'] = polab.positive/(polab.positive+polab.negative)\n",
    "polab.positive_rate.unstack().plot(figsize=(10,7))"
   ]
  },
  {
   "cell_type": "code",
   "execution_count": null,
   "metadata": {},
   "outputs": [],
   "source": [
    "polab.total_tests.unstack().plot(figsize=(10,7))"
   ]
  },
  {
   "cell_type": "code",
   "execution_count": null,
   "metadata": {},
   "outputs": [],
   "source": [
    "plt.figure(figsize=(15,10))\n",
    "ax = sns.scatterplot(data=polab.reset_index(), x='total_tests', y='positive_rate', hue='lab_id')\n"
   ]
  },
  {
   "cell_type": "code",
   "execution_count": null,
   "metadata": {},
   "outputs": [],
   "source": [
    "import altair as alt"
   ]
  },
  {
   "cell_type": "code",
   "execution_count": null,
   "metadata": {},
   "outputs": [],
   "source": [
    "alt.Chart(polab.reset_index()).mark_point().encode(\n",
    "    x='total_tests',\n",
    "    y='positive_rate',\n",
    "    color='lab_id:N',\n",
    "    tooltip=['lab_id', 'test_date', 'total_tests', 'positive_rate']\n",
    ").properties(width=600, height=450)"
   ]
  },
  {
   "cell_type": "code",
   "execution_count": null,
   "metadata": {},
   "outputs": [],
   "source": [
    "(polab.reset_index().groupby('lab_id')[['positive', 'negative', 'total_tests']]\n",
    " .sum().sort_values(('total_tests'), ascending=False)\n",
    " .assign(positive_rate = lambda x: (x.positive / (x.negative+x.negative)).mul(100).round(1)))"
   ]
  },
  {
   "cell_type": "code",
   "execution_count": null,
   "metadata": {},
   "outputs": [],
   "source": [
    "polab.reset_index().groupby('lab_id').positive_rate.mean().hist(bins=50)"
   ]
  },
  {
   "cell_type": "code",
   "execution_count": null,
   "metadata": {},
   "outputs": [],
   "source": [
    "top_5_labs = bdi[bdi.test_for_corona_diagnosis].lab_id.value_counts().index[:5]\n",
    "top_5_labs"
   ]
  },
  {
   "cell_type": "code",
   "execution_count": null,
   "metadata": {},
   "outputs": [],
   "source": []
  },
  {
   "cell_type": "code",
   "execution_count": null,
   "metadata": {},
   "outputs": [],
   "source": [
    "bdi[(bdi.lab_id==21)].groupby('test_date').size().plot(figsize=(10,7))"
   ]
  },
  {
   "cell_type": "code",
   "execution_count": null,
   "metadata": {},
   "outputs": [],
   "source": [
    "sns.set_palette(['#1b9e77','#d95f02','#7570b3','#e7298a','#66a61e','#e6ab02'])\n",
    "forp = pd.concat([polab.positive_rate.unstack()[top_5_labs], pr.rename(columns={'positive_rate': 'average'}).average], axis=1).ewm(span=7).mean()\n",
    "ax = forp[forp<0.3].plot(figsize=(10,7))\n",
    "for i, l in enumerate(ax.lines):\n",
    "    plt.setp(l, linewidth=[1.5,1.5,1.5,2.5,1.5,5][i])\n"
   ]
  },
  {
   "cell_type": "code",
   "execution_count": null,
   "metadata": {},
   "outputs": [],
   "source": [
    "top_labs_pr = pd.concat([polab.positive_rate.unstack()[top_5_labs], pr.rename(columns={'positive_rate': 'average'}).average], axis=1)\n",
    "top_labs_pr['ratio_21'] = top_labs_pr.loc[:, 21]/top_labs_pr.average\n",
    "top_labs_pr.ratio_21.plot()"
   ]
  },
  {
   "cell_type": "code",
   "execution_count": null,
   "metadata": {},
   "outputs": [],
   "source": [
    "bdi[bdi.lab_id==21].shape[0]/bdi.shape[0]"
   ]
  },
  {
   "cell_type": "code",
   "execution_count": null,
   "metadata": {},
   "outputs": [],
   "source": [
    "ax = (bdi[bdi.lab_id!=21].groupby(['test_date', 'corona_result']).size().unstack()\n",
    ".assign(pr_wo = lambda x: x.positive/(x.negative+x.positive))).pr_wo.ewm(7).mean().plot(figsize=(10,7))\n",
    "(bdi.groupby(['test_date', 'corona_result']).size().unstack()\n",
    ".assign(pr = lambda x: x.positive/(x.negative+x.positive))).pr.ewm(7).mean().plot(ax=ax, figsize=(10,7))"
   ]
  },
  {
   "cell_type": "code",
   "execution_count": null,
   "metadata": {},
   "outputs": [],
   "source": [
    "pd.concat([(bdi[bdi.lab_id!=21].groupby(['test_date', 'corona_result']).size().unstack()\n",
    ".assign(pr_wo = lambda x: x.positive/(x.negative+x.positive))).pr_wo,\n",
    "(bdi.groupby(['test_date', 'corona_result']).size().unstack()\n",
    ".assign(pr = lambda x: x.positive/(x.negative+x.positive))).pr], axis=1).assign(dif = lambda x: x.pr-x.pr_wo).dif.ewm(7).mean().plot(figsize=(10,7))"
   ]
  },
  {
   "cell_type": "markdown",
   "metadata": {},
   "source": [
    "## Decseased "
   ]
  },
  {
   "cell_type": "code",
   "execution_count": null,
   "metadata": {},
   "outputs": [],
   "source": [
    "last_dec = pd.read_csv(get_latest_file_glob('data/corona_deceased_ver*.csv.gz'), \n",
    "                       encoding='utf-8-sig', low_memory=False)\n",
    "last_dec['qc'] = pd.qcut(last_dec.Length_of_hospitalization, 11)\n",
    "last_dec.qc.value_counts().sort_index()/len(last_dec)"
   ]
  },
  {
   "cell_type": "code",
   "execution_count": null,
   "metadata": {},
   "outputs": [],
   "source": [
    "x = last_dec[last_dec['Length_of_hospitalization']<40].groupby(['Length_of_hospitalization', 'age_group']).size().unstack()[['<65', '65-74', '75-84', '85+']]\n",
    "x.plot()"
   ]
  },
  {
   "cell_type": "code",
   "execution_count": null,
   "metadata": {},
   "outputs": [],
   "source": [
    "x = last_dec.groupby(['qc', 'age_group']).size().unstack()[['<65', '65-74', '75-84', '85+']]\n",
    "x.div(x.sum(axis=0), axis=1).plot()"
   ]
  },
  {
   "cell_type": "code",
   "execution_count": null,
   "metadata": {},
   "outputs": [],
   "source": [
    "(last_dec.Length_of_hospitalization.value_counts().sort_index()/len(last_dec)).head(10)"
   ]
  },
  {
   "cell_type": "code",
   "execution_count": null,
   "metadata": {},
   "outputs": [],
   "source": [
    "(last_dec.Time_between_positive_and_hospitalization.value_counts().sort_index()/len(last_dec)).head(10)"
   ]
  },
  {
   "cell_type": "code",
   "execution_count": null,
   "metadata": {},
   "outputs": [],
   "source": [
    "sns.scatterplot(data=last_dec[last_dec.Time_between_positive_and_hospitalization>=0], x='Time_between_positive_and_hospitalization', y='Length_of_hospitalization')"
   ]
  },
  {
   "cell_type": "code",
   "execution_count": null,
   "metadata": {},
   "outputs": [],
   "source": [
    "sns.boxplot(data=last_dec[last_dec.Time_between_positive_and_hospitalization>=0], x='age_group', y='Length_of_hospitalization', order=['<65', '65-74', '75-84', '85+'])"
   ]
  },
  {
   "cell_type": "code",
   "execution_count": null,
   "metadata": {},
   "outputs": [],
   "source": [
    "decs = []\n",
    "for file in sorted(glob.glob('data/corona_deceased_ver*.csv.gz'), key=os.path.getctime) :\n",
    "    dec = pd.read_csv(file, \n",
    "                  encoding='utf-8-sig', low_memory=False)\n",
    "    dec['time'] = pd.to_datetime(round(os.path.getctime(file)),unit='s', exact=False)\n",
    "    dec.time = dec.time\n",
    "    dec['file'] = file\n",
    "    decs.append(dec)\n",
    "\n",
    "decs = pd.concat(decs).sort_values('time')\n",
    "decs.head()"
   ]
  },
  {
   "cell_type": "code",
   "execution_count": null,
   "metadata": {},
   "outputs": [],
   "source": [
    "decs.shape, (decs.drop_duplicates(subset=['gender', 'age_group', 'Ventilated',\n",
    "       'Time_between_positive_and_hospitalization',\n",
    "       'Length_of_hospitalization', 'Time_between_positive_and_death']).shape)"
   ]
  },
  {
   "cell_type": "code",
   "execution_count": null,
   "metadata": {},
   "outputs": [],
   "source": [
    "decs.columns"
   ]
  },
  {
   "cell_type": "code",
   "execution_count": null,
   "metadata": {},
   "outputs": [],
   "source": [
    "dec_dif = decs.groupby(['time', 'age_group']).size().unstack().diff()\n",
    "\n",
    "dec_dif.resample('7d', kind='period').sum()[['<65', '65-74', '75-84', '85+']].plot(kind='bar', stacked=True, figsize=(10,7), rot=0)"
   ]
  },
  {
   "cell_type": "code",
   "execution_count": null,
   "metadata": {},
   "outputs": [],
   "source": [
    "dec_dif.resample('7d', kind='period').sum()[['<65', '65-74', '75-84', '85+']].plot(kind='area', figsize=(10,7), rot=0)"
   ]
  },
  {
   "cell_type": "code",
   "execution_count": null,
   "metadata": {},
   "outputs": [],
   "source": [
    "x = dec_dif.resample('7d', kind='period').sum()[['<65', '65-74', '75-84', '85+']]\n",
    "x.div(x.sum(axis=1), axis=0).plot(kind='bar', stacked=True, figsize=(10,7), rot=0)"
   ]
  },
  {
   "cell_type": "code",
   "execution_count": null,
   "metadata": {},
   "outputs": [],
   "source": []
  },
  {
   "cell_type": "code",
   "execution_count": null,
   "metadata": {},
   "outputs": [],
   "source": [
    "dec_dif = decs.groupby(['time', 'Ventilated']).size().unstack().diff()\n",
    "\n",
    "x = dec_dif.resample('7d', kind='period').sum()\n"
   ]
  },
  {
   "cell_type": "code",
   "execution_count": null,
   "metadata": {},
   "outputs": [],
   "source": [
    "x.div(x.sum(axis=1), axis=0).plot(kind='bar', stacked=True, figsize=(10,7), rot=0)"
   ]
  },
  {
   "cell_type": "code",
   "execution_count": null,
   "metadata": {},
   "outputs": [],
   "source": [
    "decs.resample('7d', on='time')[['Length_of_hospitalization', 'Time_between_positive_and_death', 'Time_between_positive_and_hospitalization']].mean().plot(kind='bar', figsize=(10,7), rot=0)\n"
   ]
  },
  {
   "cell_type": "code",
   "execution_count": null,
   "metadata": {},
   "outputs": [],
   "source": [
    "sns.relplot(data=decs, col='time', x='Length_of_hospitalization', y='Time_between_positive_and_death', kind='scatter')"
   ]
  },
  {
   "cell_type": "code",
   "execution_count": null,
   "metadata": {},
   "outputs": [],
   "source": [
    "hos.head().T"
   ]
  },
  {
   "cell_type": "code",
   "execution_count": null,
   "metadata": {},
   "outputs": [],
   "source": [
    "rec.head()"
   ]
  },
  {
   "cell_type": "markdown",
   "metadata": {},
   "source": [
    "## Recovered"
   ]
  },
  {
   "cell_type": "code",
   "execution_count": null,
   "metadata": {},
   "outputs": [],
   "source": [
    "pd.read_csv('data/corona_recovered_ver_004.csv.gz', encoding='1255')"
   ]
  },
  {
   "cell_type": "code",
   "execution_count": null,
   "metadata": {},
   "outputs": [],
   "source": [
    "recs = []\n",
    "for file in sorted(glob.glob('data/corona_recovered*.csv.gz'), key=os.path.getctime) :\n",
    "    try:\n",
    "        r = pd.read_csv(file, \n",
    "                  encoding='1255', low_memory=False)\n",
    "    except:\n",
    "        r = pd.read_csv(file, \n",
    "                  encoding='utf-8', low_memory=False)\n",
    "    print(file, pd.to_datetime(round(os.path.getctime(file)),unit='s', exact=False))\n",
    "    r['time'] = pd.to_datetime(round(os.path.getctime(file)),unit='s', exact=False)\n",
    "    r['file'] = file\n",
    "    recs.append(r)\n",
    "\n",
    "recs = pd.concat(recs)\n",
    "recs['ver'] = recs.file.str.extract('ver_0+([1-9][0-9]*)').astype(int)\n",
    "recs = recs.sort_values('ver')\n",
    "recs.head()"
   ]
  },
  {
   "cell_type": "code",
   "execution_count": null,
   "metadata": {},
   "outputs": [],
   "source": [
    "recs.ver.value_counts()"
   ]
  },
  {
   "cell_type": "code",
   "execution_count": null,
   "metadata": {},
   "outputs": [],
   "source": [
    "sns.set_style('whitegrid')\n",
    "sns.set_context('talk')\n",
    "rec_dif = recs[recs.ver>=17].groupby(['time', 'age_group']).size().unstack().diff()\n",
    "rec_dif\n",
    "x=rec_dif.resample('7d', kind='period').sum()\n",
    "\n",
    "x.div(x.sum(axis=1),axis=0).plot(kind='area', figsize=(10,7), rot=0)"
   ]
  },
  {
   "cell_type": "markdown",
   "metadata": {},
   "source": [
    "## Age & Gender"
   ]
  },
  {
   "cell_type": "code",
   "execution_count": null,
   "metadata": {},
   "outputs": [],
   "source": []
  },
  {
   "cell_type": "code",
   "execution_count": null,
   "metadata": {},
   "outputs": [],
   "source": [
    "import gzip\n",
    "\n",
    "def get_sep(path, encoding='utf-8'):\n",
    "    if '.gz' in path:\n",
    "        my_open=gzip.open\n",
    "    else:\n",
    "        my_open=open\n",
    "    with my_open(path, 'rt', encoding=encoding) as f:\n",
    "        first_line = f.readline()\n",
    "    if '\\t' in first_line:\n",
    "        sep='\\t'\n",
    "    else:\n",
    "        sep=','\n",
    "    return sep\n",
    "\n",
    "def get_latest_df(prefix, data_folder='data', suffix='*.csv.gz'):\n",
    "    pat = os.path.join(data_folder, prefix+suffix)\n",
    "    latest = get_latest_file_glob(pat)\n",
    "    \n",
    "    try:\n",
    "        sep = get_sep(latest, '1255')\n",
    "        df = pd.read_csv(latest, \n",
    "                  encoding='1255', low_memory=False, sep=sep)\n",
    "    except:\n",
    "        sep = get_sep(latest, 'utf-8-sig')\n",
    "        df = pd.read_csv(latest, \n",
    "                  encoding='utf-8-sig', low_memory=False, sep=sep)\n",
    "    return df\n",
    "                \n",
    "ag = get_latest_df('corona_age_and_gender')\n",
    "ag.head()\n",
    "    "
   ]
  },
  {
   "cell_type": "code",
   "execution_count": null,
   "metadata": {},
   "outputs": [],
   "source": [
    "ag.weekly_deceased.value_counts()"
   ]
  },
  {
   "cell_type": "code",
   "execution_count": null,
   "metadata": {},
   "outputs": [],
   "source": [
    "ag.weekly_deceased.replace('<15','10').astype(int).plot()"
   ]
  },
  {
   "cell_type": "code",
   "execution_count": null,
   "metadata": {},
   "outputs": [],
   "source": []
  },
  {
   "cell_type": "code",
   "execution_count": null,
   "metadata": {},
   "outputs": [],
   "source": []
  },
  {
   "cell_type": "code",
   "execution_count": null,
   "metadata": {},
   "outputs": [],
   "source": []
  },
  {
   "cell_type": "code",
   "execution_count": null,
   "metadata": {},
   "outputs": [],
   "source": []
  },
  {
   "cell_type": "code",
   "execution_count": null,
   "metadata": {},
   "outputs": [],
   "source": []
  },
  {
   "cell_type": "code",
   "execution_count": null,
   "metadata": {},
   "outputs": [],
   "source": []
  },
  {
   "cell_type": "code",
   "execution_count": null,
   "metadata": {},
   "outputs": [],
   "source": []
  },
  {
   "cell_type": "code",
   "execution_count": null,
   "metadata": {},
   "outputs": [],
   "source": []
  },
  {
   "cell_type": "code",
   "execution_count": null,
   "metadata": {},
   "outputs": [],
   "source": []
  },
  {
   "cell_type": "code",
   "execution_count": null,
   "metadata": {},
   "outputs": [],
   "source": []
  },
  {
   "cell_type": "code",
   "execution_count": null,
   "metadata": {},
   "outputs": [],
   "source": []
  },
  {
   "cell_type": "code",
   "execution_count": null,
   "metadata": {},
   "outputs": [],
   "source": []
  },
  {
   "cell_type": "code",
   "execution_count": null,
   "metadata": {},
   "outputs": [],
   "source": []
  },
  {
   "cell_type": "code",
   "execution_count": null,
   "metadata": {},
   "outputs": [],
   "source": []
  },
  {
   "cell_type": "code",
   "execution_count": null,
   "metadata": {},
   "outputs": [],
   "source": []
  },
  {
   "cell_type": "code",
   "execution_count": null,
   "metadata": {},
   "outputs": [],
   "source": []
  },
  {
   "cell_type": "code",
   "execution_count": null,
   "metadata": {},
   "outputs": [],
   "source": []
  },
  {
   "cell_type": "code",
   "execution_count": null,
   "metadata": {},
   "outputs": [],
   "source": []
  },
  {
   "cell_type": "code",
   "execution_count": null,
   "metadata": {},
   "outputs": [],
   "source": []
  },
  {
   "cell_type": "code",
   "execution_count": null,
   "metadata": {},
   "outputs": [],
   "source": []
  },
  {
   "cell_type": "code",
   "execution_count": null,
   "metadata": {},
   "outputs": [],
   "source": []
  },
  {
   "cell_type": "code",
   "execution_count": null,
   "metadata": {},
   "outputs": [],
   "source": []
  },
  {
   "cell_type": "code",
   "execution_count": null,
   "metadata": {},
   "outputs": [],
   "source": []
  },
  {
   "cell_type": "code",
   "execution_count": null,
   "metadata": {},
   "outputs": [],
   "source": []
  }
 ],
 "metadata": {
  "colab": {
   "authorship_tag": "ABX9TyPZ16u/3ROLJZKBgk8y6lmL",
   "collapsed_sections": [],
   "include_colab_link": true,
   "name": "israel_covid.ipynb",
   "provenance": []
  },
  "kernelspec": {
   "display_name": "Python 3",
   "language": "python",
   "name": "python3"
  },
  "language_info": {
   "codemirror_mode": {
    "name": "ipython",
    "version": 3
   },
   "file_extension": ".py",
   "mimetype": "text/x-python",
   "name": "python",
   "nbconvert_exporter": "python",
   "pygments_lexer": "ipython3",
   "version": "3.7.4"
  }
 },
 "nbformat": 4,
 "nbformat_minor": 4
}
