{
 "cells": [
  {
   "cell_type": "markdown",
   "metadata": {
    "colab_type": "text",
    "id": "view-in-github"
   },
   "source": [
    "<a href=\"https://colab.research.google.com/github/cjer/covid/blob/master/israel_covid.ipynb\" target=\"_parent\"><img src=\"https://colab.research.google.com/assets/colab-badge.svg\" alt=\"Open In Colab\"/></a>"
   ]
  },
  {
   "cell_type": "code",
   "execution_count": 1,
   "metadata": {
    "colab": {},
    "colab_type": "code",
    "id": "9VD38dhp31so"
   },
   "outputs": [],
   "source": [
    "%matplotlib inline"
   ]
  },
  {
   "cell_type": "code",
   "execution_count": 2,
   "metadata": {
    "colab": {
     "base_uri": "https://localhost:8080/",
     "height": 71
    },
    "colab_type": "code",
    "id": "ZqtCsciJ4IUX",
    "outputId": "95cc64ba-73ee-435b-92db-6d105903da06"
   },
   "outputs": [],
   "source": [
    "import matplotlib.pyplot as plt\n",
    "import pandas as pd\n",
    "import numpy as np\n",
    "import seaborn as sns\n",
    "\n",
    "sns.set_context('notebook')\n",
    "sns.set_style('whitegrid')"
   ]
  },
  {
   "cell_type": "code",
   "execution_count": null,
   "metadata": {
    "colab": {},
    "colab_type": "code",
    "id": "s9isgNw16ug3"
   },
   "outputs": [],
   "source": []
  },
  {
   "cell_type": "code",
   "execution_count": 94,
   "metadata": {
    "colab": {
     "base_uri": "https://localhost:8080/",
     "height": 308
    },
    "colab_type": "code",
    "id": "SUlgU_cT4V9K",
    "outputId": "56fe8776-d9ab-47a5-f787-b43d582db855"
   },
   "outputs": [
    {
     "data": {
      "text/html": [
       "<div>\n",
       "<style scoped>\n",
       "    .dataframe tbody tr th:only-of-type {\n",
       "        vertical-align: middle;\n",
       "    }\n",
       "\n",
       "    .dataframe tbody tr th {\n",
       "        vertical-align: top;\n",
       "    }\n",
       "\n",
       "    .dataframe thead th {\n",
       "        text-align: right;\n",
       "    }\n",
       "</style>\n",
       "<table border=\"1\" class=\"dataframe\">\n",
       "  <thead>\n",
       "    <tr style=\"text-align: right;\">\n",
       "      <th></th>\n",
       "      <th>test_date</th>\n",
       "      <th>cough</th>\n",
       "      <th>fever</th>\n",
       "      <th>sore_throat</th>\n",
       "      <th>shortness_of_breath</th>\n",
       "      <th>head_ache</th>\n",
       "      <th>corona_result</th>\n",
       "      <th>age_60_and_above</th>\n",
       "      <th>gender</th>\n",
       "      <th>test_indication</th>\n",
       "    </tr>\n",
       "  </thead>\n",
       "  <tbody>\n",
       "    <tr>\n",
       "      <td>0</td>\n",
       "      <td>2020-06-22</td>\n",
       "      <td>1</td>\n",
       "      <td>0</td>\n",
       "      <td>0</td>\n",
       "      <td>0</td>\n",
       "      <td>0</td>\n",
       "      <td>שלילי</td>\n",
       "      <td>No</td>\n",
       "      <td>זכר</td>\n",
       "      <td>Abroad</td>\n",
       "    </tr>\n",
       "    <tr>\n",
       "      <td>1</td>\n",
       "      <td>2020-06-22</td>\n",
       "      <td>0</td>\n",
       "      <td>0</td>\n",
       "      <td>0</td>\n",
       "      <td>0</td>\n",
       "      <td>0</td>\n",
       "      <td>שלילי</td>\n",
       "      <td>No</td>\n",
       "      <td>נקבה</td>\n",
       "      <td>Other</td>\n",
       "    </tr>\n",
       "    <tr>\n",
       "      <td>2</td>\n",
       "      <td>2020-06-22</td>\n",
       "      <td>0</td>\n",
       "      <td>0</td>\n",
       "      <td>0</td>\n",
       "      <td>0</td>\n",
       "      <td>0</td>\n",
       "      <td>שלילי</td>\n",
       "      <td>No</td>\n",
       "      <td>זכר</td>\n",
       "      <td>Other</td>\n",
       "    </tr>\n",
       "    <tr>\n",
       "      <td>3</td>\n",
       "      <td>2020-06-22</td>\n",
       "      <td>0</td>\n",
       "      <td>0</td>\n",
       "      <td>0</td>\n",
       "      <td>0</td>\n",
       "      <td>0</td>\n",
       "      <td>שלילי</td>\n",
       "      <td>No</td>\n",
       "      <td>נקבה</td>\n",
       "      <td>Other</td>\n",
       "    </tr>\n",
       "    <tr>\n",
       "      <td>4</td>\n",
       "      <td>2020-06-22</td>\n",
       "      <td>0</td>\n",
       "      <td>0</td>\n",
       "      <td>0</td>\n",
       "      <td>0</td>\n",
       "      <td>0</td>\n",
       "      <td>שלילי</td>\n",
       "      <td>No</td>\n",
       "      <td>זכר</td>\n",
       "      <td>Other</td>\n",
       "    </tr>\n",
       "  </tbody>\n",
       "</table>\n",
       "</div>"
      ],
      "text/plain": [
       "   test_date  cough  fever  sore_throat  shortness_of_breath  head_ache  \\\n",
       "0 2020-06-22      1      0            0                    0          0   \n",
       "1 2020-06-22      0      0            0                    0          0   \n",
       "2 2020-06-22      0      0            0                    0          0   \n",
       "3 2020-06-22      0      0            0                    0          0   \n",
       "4 2020-06-22      0      0            0                    0          0   \n",
       "\n",
       "  corona_result age_60_and_above gender test_indication  \n",
       "0         שלילי               No    זכר          Abroad  \n",
       "1         שלילי               No   נקבה           Other  \n",
       "2         שלילי               No    זכר           Other  \n",
       "3         שלילי               No   נקבה           Other  \n",
       "4         שלילי               No    זכר           Other  "
      ]
     },
     "execution_count": 94,
     "metadata": {},
     "output_type": "execute_result"
    }
   ],
   "source": [
    "niv = pd.read_csv('data/corona_tested_individuals_ver_0032.csv.gz', \n",
    "                  encoding='utf-8-sig', low_memory=False, na_values=['None'],\n",
    "                  parse_dates=[0])\n",
    "#niv['test_date'] = niv.test_date.apply(pd.to_datetime, format='%Y-%m-%d')\n",
    "niv.head()"
   ]
  },
  {
   "cell_type": "code",
   "execution_count": 95,
   "metadata": {
    "colab": {},
    "colab_type": "code",
    "id": "xRXK8IGe5yZf"
   },
   "outputs": [],
   "source": [
    "symptom_cols = ['cough', 'fever', 'sore_throat', 'shortness_of_breath', 'head_ache']\n",
    "niv['symp_num'] = niv[symptom_cols].fillna(0).sum(axis=1).astype(int)\n",
    "niv['no_symp'] = (~niv[symptom_cols].fillna(0).any(axis=1))\n",
    "symptom_cols.append('no_symp')\n"
   ]
  },
  {
   "cell_type": "code",
   "execution_count": 96,
   "metadata": {
    "colab": {
     "base_uri": "https://localhost:8080/",
     "height": 203
    },
    "colab_type": "code",
    "id": "sq92Rycp8K2B",
    "outputId": "22042338-0ddb-418a-afdb-278e1e9d6789"
   },
   "outputs": [],
   "source": [
    "bdi = pd.read_csv('data/corona_lab_tests_ver_0024.csv.gz', encoding='utf-8', parse_dates=[0,1])"
   ]
  },
  {
   "cell_type": "code",
   "execution_count": 97,
   "metadata": {},
   "outputs": [],
   "source": [
    "bdi['orig_test_date'] = bdi.test_date\n",
    "bdi['test_date'] = bdi.test_date.combine_first(bdi.result_date)"
   ]
  },
  {
   "cell_type": "code",
   "execution_count": 98,
   "metadata": {},
   "outputs": [
    {
     "data": {
      "text/html": [
       "<div>\n",
       "<style scoped>\n",
       "    .dataframe tbody tr th:only-of-type {\n",
       "        vertical-align: middle;\n",
       "    }\n",
       "\n",
       "    .dataframe tbody tr th {\n",
       "        vertical-align: top;\n",
       "    }\n",
       "\n",
       "    .dataframe thead th {\n",
       "        text-align: right;\n",
       "    }\n",
       "</style>\n",
       "<table border=\"1\" class=\"dataframe\">\n",
       "  <thead>\n",
       "    <tr style=\"text-align: right;\">\n",
       "      <th></th>\n",
       "      <th>test_date</th>\n",
       "      <th>result_date</th>\n",
       "      <th>corona_result</th>\n",
       "      <th>lab_id</th>\n",
       "      <th>is_first_Test</th>\n",
       "      <th>orig_test_date</th>\n",
       "    </tr>\n",
       "  </thead>\n",
       "  <tbody>\n",
       "    <tr>\n",
       "      <td>0</td>\n",
       "      <td>2020-03-11</td>\n",
       "      <td>2020-03-11</td>\n",
       "      <td>שלילי</td>\n",
       "      <td>2</td>\n",
       "      <td>Yes</td>\n",
       "      <td>NaT</td>\n",
       "    </tr>\n",
       "    <tr>\n",
       "      <td>1</td>\n",
       "      <td>2020-03-11</td>\n",
       "      <td>2020-03-11</td>\n",
       "      <td>שלילי</td>\n",
       "      <td>2</td>\n",
       "      <td>Yes</td>\n",
       "      <td>NaT</td>\n",
       "    </tr>\n",
       "    <tr>\n",
       "      <td>2</td>\n",
       "      <td>2020-03-11</td>\n",
       "      <td>2020-03-11</td>\n",
       "      <td>שלילי</td>\n",
       "      <td>2</td>\n",
       "      <td>Yes</td>\n",
       "      <td>NaT</td>\n",
       "    </tr>\n",
       "    <tr>\n",
       "      <td>3</td>\n",
       "      <td>2020-03-11</td>\n",
       "      <td>2020-03-11</td>\n",
       "      <td>שלילי</td>\n",
       "      <td>2</td>\n",
       "      <td>Yes</td>\n",
       "      <td>NaT</td>\n",
       "    </tr>\n",
       "    <tr>\n",
       "      <td>4</td>\n",
       "      <td>2020-03-11</td>\n",
       "      <td>2020-03-11</td>\n",
       "      <td>שלילי</td>\n",
       "      <td>2</td>\n",
       "      <td>Yes</td>\n",
       "      <td>NaT</td>\n",
       "    </tr>\n",
       "  </tbody>\n",
       "</table>\n",
       "</div>"
      ],
      "text/plain": [
       "   test_date result_date corona_result  lab_id is_first_Test orig_test_date\n",
       "0 2020-03-11  2020-03-11         שלילי       2           Yes            NaT\n",
       "1 2020-03-11  2020-03-11         שלילי       2           Yes            NaT\n",
       "2 2020-03-11  2020-03-11         שלילי       2           Yes            NaT\n",
       "3 2020-03-11  2020-03-11         שלילי       2           Yes            NaT\n",
       "4 2020-03-11  2020-03-11         שלילי       2           Yes            NaT"
      ]
     },
     "execution_count": 98,
     "metadata": {},
     "output_type": "execute_result"
    }
   ],
   "source": [
    "bdi.head()"
   ]
  },
  {
   "cell_type": "raw",
   "metadata": {
    "colab": {
     "base_uri": "https://localhost:8080/",
     "height": 203
    },
    "colab_type": "code",
    "id": "sq92Rycp8K2B",
    "outputId": "22042338-0ddb-418a-afdb-278e1e9d6789"
   },
   "source": [
    "try:\n",
    "    bdi['test_date'] = bdi.test_date.apply(pd.to_datetime, format='%Y-%m-%d')\n",
    "    bdi['result_date'] = bdi.result_date.apply(pd.to_datetime, format='%Y-%m-%d')\n",
    "except ValueError:\n",
    "    bdi['test_date'] = bdi.test_date.apply(pd.to_datetime, format='%m/%d/%Y')\n",
    "    bdi['result_date'] = bdi.result_date.apply(pd.to_datetime, format='%m/%d/%Y')\n",
    "except ValueError:\n",
    "    bdi['test_date'] = bdi.test_date.apply(pd.to_datetime, format='%d/%m/%Y')\n",
    "    bdi['result_date'] = bdi.result_date.apply(pd.to_datetime, format='%d/%m/%Y')\n",
    "bdi.head()"
   ]
  },
  {
   "cell_type": "code",
   "execution_count": 99,
   "metadata": {},
   "outputs": [
    {
     "data": {
      "text/plain": [
       "(860313, 6)"
      ]
     },
     "execution_count": 99,
     "metadata": {},
     "output_type": "execute_result"
    }
   ],
   "source": [
    "bdi.shape"
   ]
  },
  {
   "cell_type": "code",
   "execution_count": 100,
   "metadata": {
    "colab": {
     "base_uri": "https://localhost:8080/",
     "height": 137
    },
    "colab_type": "code",
    "id": "0YH10E51J6Hd",
    "outputId": "97d9bb00-b2b4-4877-f8ea-2c9742e51832"
   },
   "outputs": [
    {
     "data": {
      "text/plain": [
       "שלילי               804550\n",
       "חיובי                42495\n",
       "לא בוצע/פסול 999     10118\n",
       "חיובי גבולי           2157\n",
       "בעבודה                 597\n",
       "לא ודאי                396\n",
       "Name: corona_result, dtype: int64"
      ]
     },
     "execution_count": 100,
     "metadata": {},
     "output_type": "execute_result"
    }
   ],
   "source": [
    "bdi.corona_result.value_counts()"
   ]
  },
  {
   "cell_type": "code",
   "execution_count": 101,
   "metadata": {
    "colab": {
     "base_uri": "https://localhost:8080/",
     "height": 86
    },
    "colab_type": "code",
    "id": "nCncDl-_hy-c",
    "outputId": "2b622a37-5c95-4433-aee2-e60049063f7e"
   },
   "outputs": [
    {
     "data": {
      "text/plain": [
       "שלילי    608182\n",
       "חיובי     19409\n",
       "אחר        7173\n",
       "Name: corona_result, dtype: int64"
      ]
     },
     "execution_count": 101,
     "metadata": {},
     "output_type": "execute_result"
    }
   ],
   "source": [
    "niv.corona_result.value_counts()"
   ]
  },
  {
   "cell_type": "code",
   "execution_count": 102,
   "metadata": {
    "colab": {
     "base_uri": "https://localhost:8080/",
     "height": 86
    },
    "colab_type": "code",
    "id": "pyvCumeYCgDd",
    "outputId": "6a8b1ae4-b935-44a5-9249-9525b5837f5f"
   },
   "outputs": [
    {
     "data": {
      "text/plain": [
       "Other                     593463\n",
       "Abroad                     27232\n",
       "Contact with confirmed     14069\n",
       "Name: test_indication, dtype: int64"
      ]
     },
     "execution_count": 102,
     "metadata": {},
     "output_type": "execute_result"
    }
   ],
   "source": [
    "niv.test_indication.value_counts()"
   ]
  },
  {
   "cell_type": "code",
   "execution_count": 103,
   "metadata": {
    "colab": {
     "base_uri": "https://localhost:8080/",
     "height": 68
    },
    "colab_type": "code",
    "id": "cGAG9O3Gru2b",
    "outputId": "cbcf39b4-de61-4774-a0b8-bf77357c88b9"
   },
   "outputs": [
    {
     "data": {
      "text/plain": [
       "No     158330\n",
       "Yes     32505\n",
       "Name: age_60_and_above, dtype: int64"
      ]
     },
     "execution_count": 103,
     "metadata": {},
     "output_type": "execute_result"
    }
   ],
   "source": [
    "niv.age_60_and_above.value_counts()"
   ]
  },
  {
   "cell_type": "code",
   "execution_count": 104,
   "metadata": {
    "colab": {},
    "colab_type": "code",
    "id": "HqJ5TFN3MN6m"
   },
   "outputs": [],
   "source": [
    "niv.loc[(niv.test_indication=='Other') & (niv.no_symp), 'test_indication'] = 'Other-Unknown'\n",
    "niv.loc[(niv.test_indication=='Other-Unknown') & (niv.age_60_and_above=='Yes'), 'test_indication'] = 'Other-60_above'\n",
    "niv.loc[(niv.test_indication=='Other') & (~niv.no_symp), 'test_indication'] = 'Other-Symptoms'"
   ]
  },
  {
   "cell_type": "code",
   "execution_count": null,
   "metadata": {
    "colab": {},
    "colab_type": "code",
    "id": "owl2marRu6g_"
   },
   "outputs": [],
   "source": []
  },
  {
   "cell_type": "code",
   "execution_count": 105,
   "metadata": {
    "colab": {},
    "colab_type": "code",
    "id": "Senza6x-JmXv"
   },
   "outputs": [],
   "source": [
    "result_map = {\n",
    "    'חיובי': 'positive',\n",
    "    'שלילי': 'negative',\n",
    "    'אחר': 'other',\n",
    "    'לא בוצע': 'not_done',\n",
    "    'בעבודה': 'in_progress',\n",
    "    'לא ודאי': 'uncertain',\n",
    "}\n",
    "niv['corona_result'] = niv.corona_result.map(result_map)\n"
   ]
  },
  {
   "cell_type": "code",
   "execution_count": 106,
   "metadata": {
    "colab": {},
    "colab_type": "code",
    "id": "VcSQcBACiazN"
   },
   "outputs": [],
   "source": [
    "bdi['corona_result'] = bdi.corona_result.map(result_map)"
   ]
  },
  {
   "cell_type": "code",
   "execution_count": 107,
   "metadata": {
    "colab": {
     "base_uri": "https://localhost:8080/",
     "height": 203
    },
    "colab_type": "code",
    "id": "WyWlMjX9kBtl",
    "outputId": "4c7abf63-b49e-4871-cd8c-41efa9b6c82e"
   },
   "outputs": [
    {
     "data": {
      "text/html": [
       "<div>\n",
       "<style scoped>\n",
       "    .dataframe tbody tr th:only-of-type {\n",
       "        vertical-align: middle;\n",
       "    }\n",
       "\n",
       "    .dataframe tbody tr th {\n",
       "        vertical-align: top;\n",
       "    }\n",
       "\n",
       "    .dataframe thead th {\n",
       "        text-align: right;\n",
       "    }\n",
       "</style>\n",
       "<table border=\"1\" class=\"dataframe\">\n",
       "  <thead>\n",
       "    <tr style=\"text-align: right;\">\n",
       "      <th></th>\n",
       "      <th>days_between_pos_and_neg</th>\n",
       "      <th>total_tests_count</th>\n",
       "      <th>age_group</th>\n",
       "      <th>gender</th>\n",
       "      <th>test_indication</th>\n",
       "    </tr>\n",
       "  </thead>\n",
       "  <tbody>\n",
       "    <tr>\n",
       "      <td>0</td>\n",
       "      <td>19</td>\n",
       "      <td>9</td>\n",
       "      <td>40-49</td>\n",
       "      <td>NaN</td>\n",
       "      <td>Abroad</td>\n",
       "    </tr>\n",
       "    <tr>\n",
       "      <td>1</td>\n",
       "      <td>22</td>\n",
       "      <td>9</td>\n",
       "      <td>30-39</td>\n",
       "      <td>NaN</td>\n",
       "      <td>Contact with confirmed</td>\n",
       "    </tr>\n",
       "    <tr>\n",
       "      <td>2</td>\n",
       "      <td>26</td>\n",
       "      <td>9</td>\n",
       "      <td>30-39</td>\n",
       "      <td>NaN</td>\n",
       "      <td>Contact with confirmed</td>\n",
       "    </tr>\n",
       "    <tr>\n",
       "      <td>3</td>\n",
       "      <td>28</td>\n",
       "      <td>9</td>\n",
       "      <td>30-39</td>\n",
       "      <td>NaN</td>\n",
       "      <td>Abroad</td>\n",
       "    </tr>\n",
       "    <tr>\n",
       "      <td>4</td>\n",
       "      <td>23</td>\n",
       "      <td>9</td>\n",
       "      <td>20-29</td>\n",
       "      <td>NaN</td>\n",
       "      <td>Contact with confirmed</td>\n",
       "    </tr>\n",
       "  </tbody>\n",
       "</table>\n",
       "</div>"
      ],
      "text/plain": [
       "   days_between_pos_and_neg total_tests_count age_group  gender  \\\n",
       "0                        19                 9     40-49     NaN   \n",
       "1                        22                 9     30-39     NaN   \n",
       "2                        26                 9     30-39     NaN   \n",
       "3                        28                 9     30-39     NaN   \n",
       "4                        23                 9     20-29     NaN   \n",
       "\n",
       "          test_indication  \n",
       "0                  Abroad  \n",
       "1  Contact with confirmed  \n",
       "2  Contact with confirmed  \n",
       "3                  Abroad  \n",
       "4  Contact with confirmed  "
      ]
     },
     "execution_count": 107,
     "metadata": {},
     "output_type": "execute_result"
    }
   ],
   "source": [
    "rec = pd.read_csv('data/corona_recovered_ver_0023.csv.gz', encoding='utf-8-sig')\n",
    "rec = rec.iloc[:, 0:5]\n",
    "rec.head()"
   ]
  },
  {
   "cell_type": "code",
   "execution_count": 108,
   "metadata": {
    "colab": {
     "base_uri": "https://localhost:8080/",
     "height": 326
    },
    "colab_type": "code",
    "id": "ti9ViZBBlGFs",
    "outputId": "8695ac59-fb9b-4e39-ff7c-9b9f2dbcccbc"
   },
   "outputs": [
    {
     "data": {
      "text/html": [
       "<div>\n",
       "<style scoped>\n",
       "    .dataframe tbody tr th:only-of-type {\n",
       "        vertical-align: middle;\n",
       "    }\n",
       "\n",
       "    .dataframe tbody tr th {\n",
       "        vertical-align: top;\n",
       "    }\n",
       "\n",
       "    .dataframe thead th {\n",
       "        text-align: right;\n",
       "    }\n",
       "</style>\n",
       "<table border=\"1\" class=\"dataframe\">\n",
       "  <thead>\n",
       "    <tr style=\"text-align: right;\">\n",
       "      <th></th>\n",
       "      <th>total_tests_count</th>\n",
       "      <th>size</th>\n",
       "      <th>min</th>\n",
       "      <th>max</th>\n",
       "      <th>mean</th>\n",
       "      <th>median</th>\n",
       "      <th>test_sum</th>\n",
       "    </tr>\n",
       "  </thead>\n",
       "  <tbody>\n",
       "    <tr>\n",
       "      <td>0</td>\n",
       "      <td>2</td>\n",
       "      <td>7</td>\n",
       "      <td>1</td>\n",
       "      <td>15</td>\n",
       "      <td>6.857143</td>\n",
       "      <td>6.0</td>\n",
       "      <td>14</td>\n",
       "    </tr>\n",
       "    <tr>\n",
       "      <td>1</td>\n",
       "      <td>3</td>\n",
       "      <td>7163</td>\n",
       "      <td>2</td>\n",
       "      <td>76</td>\n",
       "      <td>15.972218</td>\n",
       "      <td>16.0</td>\n",
       "      <td>21489</td>\n",
       "    </tr>\n",
       "    <tr>\n",
       "      <td>2</td>\n",
       "      <td>4</td>\n",
       "      <td>3009</td>\n",
       "      <td>2</td>\n",
       "      <td>98</td>\n",
       "      <td>20.368229</td>\n",
       "      <td>20.0</td>\n",
       "      <td>12036</td>\n",
       "    </tr>\n",
       "    <tr>\n",
       "      <td>3</td>\n",
       "      <td>5</td>\n",
       "      <td>2135</td>\n",
       "      <td>4</td>\n",
       "      <td>76</td>\n",
       "      <td>23.997658</td>\n",
       "      <td>24.0</td>\n",
       "      <td>10675</td>\n",
       "    </tr>\n",
       "    <tr>\n",
       "      <td>4</td>\n",
       "      <td>6</td>\n",
       "      <td>1351</td>\n",
       "      <td>6</td>\n",
       "      <td>69</td>\n",
       "      <td>27.219837</td>\n",
       "      <td>27.0</td>\n",
       "      <td>8106</td>\n",
       "    </tr>\n",
       "    <tr>\n",
       "      <td>5</td>\n",
       "      <td>7</td>\n",
       "      <td>867</td>\n",
       "      <td>8</td>\n",
       "      <td>63</td>\n",
       "      <td>30.264129</td>\n",
       "      <td>30.0</td>\n",
       "      <td>6069</td>\n",
       "    </tr>\n",
       "    <tr>\n",
       "      <td>6</td>\n",
       "      <td>8</td>\n",
       "      <td>514</td>\n",
       "      <td>3</td>\n",
       "      <td>68</td>\n",
       "      <td>32.922179</td>\n",
       "      <td>32.5</td>\n",
       "      <td>4112</td>\n",
       "    </tr>\n",
       "    <tr>\n",
       "      <td>7</td>\n",
       "      <td>9</td>\n",
       "      <td>313</td>\n",
       "      <td>2</td>\n",
       "      <td>78</td>\n",
       "      <td>35.530351</td>\n",
       "      <td>35.0</td>\n",
       "      <td>2817</td>\n",
       "    </tr>\n",
       "    <tr>\n",
       "      <td>8</td>\n",
       "      <td>10</td>\n",
       "      <td>524</td>\n",
       "      <td>5</td>\n",
       "      <td>100</td>\n",
       "      <td>40.486641</td>\n",
       "      <td>40.0</td>\n",
       "      <td>5240</td>\n",
       "    </tr>\n",
       "  </tbody>\n",
       "</table>\n",
       "</div>"
      ],
      "text/plain": [
       "   total_tests_count  size  min  max       mean  median  test_sum\n",
       "0                  2     7    1   15   6.857143     6.0        14\n",
       "1                  3  7163    2   76  15.972218    16.0     21489\n",
       "2                  4  3009    2   98  20.368229    20.0     12036\n",
       "3                  5  2135    4   76  23.997658    24.0     10675\n",
       "4                  6  1351    6   69  27.219837    27.0      8106\n",
       "5                  7   867    8   63  30.264129    30.0      6069\n",
       "6                  8   514    3   68  32.922179    32.5      4112\n",
       "7                  9   313    2   78  35.530351    35.0      2817\n",
       "8                 10   524    5  100  40.486641    40.0      5240"
      ]
     },
     "execution_count": 108,
     "metadata": {},
     "output_type": "execute_result"
    }
   ],
   "source": [
    "x = (rec\n",
    " .assign(total_tests_count = lambda x: (x.fillna('3').total_tests_count\n",
    "                                .astype(str).str.replace('>=', '').str.replace('+', '')\n",
    "                                .astype(int)))\n",
    " .groupby('total_tests_count').days_between_pos_and_neg.agg(['size', 'min', 'max', 'mean', 'median'])\n",
    ").reset_index()\n",
    "x['test_sum'] = x.total_tests_count*x['size']\n",
    "x"
   ]
  },
  {
   "cell_type": "code",
   "execution_count": 139,
   "metadata": {},
   "outputs": [
    {
     "data": {
      "text/html": [
       "<div>\n",
       "<style scoped>\n",
       "    .dataframe tbody tr th:only-of-type {\n",
       "        vertical-align: middle;\n",
       "    }\n",
       "\n",
       "    .dataframe tbody tr th {\n",
       "        vertical-align: top;\n",
       "    }\n",
       "\n",
       "    .dataframe thead th {\n",
       "        text-align: right;\n",
       "    }\n",
       "</style>\n",
       "<table border=\"1\" class=\"dataframe\">\n",
       "  <thead>\n",
       "    <tr style=\"text-align: right;\">\n",
       "      <th></th>\n",
       "      <th>days_between_pos_and_neg</th>\n",
       "      <th>total_tests_count</th>\n",
       "      <th>age_group</th>\n",
       "      <th>gender</th>\n",
       "      <th>test_indication</th>\n",
       "    </tr>\n",
       "  </thead>\n",
       "  <tbody>\n",
       "    <tr>\n",
       "      <td>15659</td>\n",
       "      <td>100</td>\n",
       "      <td>10+</td>\n",
       "      <td>60+</td>\n",
       "      <td>NaN</td>\n",
       "      <td>Contact with confirmed</td>\n",
       "    </tr>\n",
       "    <tr>\n",
       "      <td>7843</td>\n",
       "      <td>98</td>\n",
       "      <td>4</td>\n",
       "      <td>40-49</td>\n",
       "      <td>NaN</td>\n",
       "      <td>Other</td>\n",
       "    </tr>\n",
       "    <tr>\n",
       "      <td>6971</td>\n",
       "      <td>83</td>\n",
       "      <td>4</td>\n",
       "      <td>20-29</td>\n",
       "      <td>NaN</td>\n",
       "      <td>Other</td>\n",
       "    </tr>\n",
       "    <tr>\n",
       "      <td>272</td>\n",
       "      <td>78</td>\n",
       "      <td>9</td>\n",
       "      <td>60+</td>\n",
       "      <td>NaN</td>\n",
       "      <td>Contact with confirmed</td>\n",
       "    </tr>\n",
       "    <tr>\n",
       "      <td>15422</td>\n",
       "      <td>78</td>\n",
       "      <td>10+</td>\n",
       "      <td>0-19</td>\n",
       "      <td>NaN</td>\n",
       "      <td>Other</td>\n",
       "    </tr>\n",
       "    <tr>\n",
       "      <td>15614</td>\n",
       "      <td>78</td>\n",
       "      <td>10+</td>\n",
       "      <td>60+</td>\n",
       "      <td>NaN</td>\n",
       "      <td>Other</td>\n",
       "    </tr>\n",
       "    <tr>\n",
       "      <td>3280</td>\n",
       "      <td>76</td>\n",
       "      <td>5</td>\n",
       "      <td>0-19</td>\n",
       "      <td>NaN</td>\n",
       "      <td>Contact with confirmed</td>\n",
       "    </tr>\n",
       "    <tr>\n",
       "      <td>12525</td>\n",
       "      <td>76</td>\n",
       "      <td>3</td>\n",
       "      <td>40-49</td>\n",
       "      <td>NaN</td>\n",
       "      <td>Other</td>\n",
       "    </tr>\n",
       "    <tr>\n",
       "      <td>9383</td>\n",
       "      <td>74</td>\n",
       "      <td>3</td>\n",
       "      <td>NaN</td>\n",
       "      <td>NaN</td>\n",
       "      <td>NaN</td>\n",
       "    </tr>\n",
       "    <tr>\n",
       "      <td>15452</td>\n",
       "      <td>73</td>\n",
       "      <td>10+</td>\n",
       "      <td>0-19</td>\n",
       "      <td>NaN</td>\n",
       "      <td>Contact with confirmed</td>\n",
       "    </tr>\n",
       "    <tr>\n",
       "      <td>15623</td>\n",
       "      <td>73</td>\n",
       "      <td>10+</td>\n",
       "      <td>60+</td>\n",
       "      <td>NaN</td>\n",
       "      <td>Abroad</td>\n",
       "    </tr>\n",
       "    <tr>\n",
       "      <td>15391</td>\n",
       "      <td>72</td>\n",
       "      <td>10+</td>\n",
       "      <td>0-19</td>\n",
       "      <td>NaN</td>\n",
       "      <td>Other</td>\n",
       "    </tr>\n",
       "    <tr>\n",
       "      <td>6718</td>\n",
       "      <td>71</td>\n",
       "      <td>4</td>\n",
       "      <td>30-39</td>\n",
       "      <td>NaN</td>\n",
       "      <td>Other</td>\n",
       "    </tr>\n",
       "    <tr>\n",
       "      <td>15471</td>\n",
       "      <td>71</td>\n",
       "      <td>10+</td>\n",
       "      <td>60+</td>\n",
       "      <td>NaN</td>\n",
       "      <td>Other</td>\n",
       "    </tr>\n",
       "    <tr>\n",
       "      <td>15485</td>\n",
       "      <td>71</td>\n",
       "      <td>10+</td>\n",
       "      <td>60+</td>\n",
       "      <td>NaN</td>\n",
       "      <td>Other</td>\n",
       "    </tr>\n",
       "  </tbody>\n",
       "</table>\n",
       "</div>"
      ],
      "text/plain": [
       "       days_between_pos_and_neg total_tests_count age_group  gender  \\\n",
       "15659                       100               10+       60+     NaN   \n",
       "7843                         98                 4     40-49     NaN   \n",
       "6971                         83                 4     20-29     NaN   \n",
       "272                          78                 9       60+     NaN   \n",
       "15422                        78               10+      0-19     NaN   \n",
       "15614                        78               10+       60+     NaN   \n",
       "3280                         76                 5      0-19     NaN   \n",
       "12525                        76                 3     40-49     NaN   \n",
       "9383                         74                 3       NaN     NaN   \n",
       "15452                        73               10+      0-19     NaN   \n",
       "15623                        73               10+       60+     NaN   \n",
       "15391                        72               10+      0-19     NaN   \n",
       "6718                         71                 4     30-39     NaN   \n",
       "15471                        71               10+       60+     NaN   \n",
       "15485                        71               10+       60+     NaN   \n",
       "\n",
       "              test_indication  \n",
       "15659  Contact with confirmed  \n",
       "7843                    Other  \n",
       "6971                    Other  \n",
       "272    Contact with confirmed  \n",
       "15422                   Other  \n",
       "15614                   Other  \n",
       "3280   Contact with confirmed  \n",
       "12525                   Other  \n",
       "9383                      NaN  \n",
       "15452  Contact with confirmed  \n",
       "15623                  Abroad  \n",
       "15391                   Other  \n",
       "6718                    Other  \n",
       "15471                   Other  \n",
       "15485                   Other  "
      ]
     },
     "execution_count": 139,
     "metadata": {},
     "output_type": "execute_result"
    }
   ],
   "source": [
    "rec.iloc[rec.days_between_pos_and_neg.nlargest(15).index]"
   ]
  },
  {
   "cell_type": "code",
   "execution_count": 132,
   "metadata": {},
   "outputs": [
    {
     "data": {
      "text/plain": [
       "<matplotlib.axes._subplots.AxesSubplot at 0x22803b1d4c8>"
      ]
     },
     "execution_count": 132,
     "metadata": {},
     "output_type": "execute_result"
    },
    {
     "data": {
      "image/png": "[encoded data removed]",
      "text/plain": [
       "<Figure size 432x288 with 1 Axes>"
      ]
     },
     "metadata": {},
     "output_type": "display_data"
    }
   ],
   "source": [
    "rec.days_between_pos_and_neg.hist(bins=30)"
   ]
  },
  {
   "cell_type": "code",
   "execution_count": 109,
   "metadata": {
    "colab": {
     "base_uri": "https://localhost:8080/",
     "height": 203
    },
    "colab_type": "code",
    "id": "uznzC8y7_42V",
    "outputId": "6763b4fe-b718-4313-f616-3dac7d63f377"
   },
   "outputs": [
    {
     "data": {
      "text/html": [
       "<div>\n",
       "<style scoped>\n",
       "    .dataframe tbody tr th:only-of-type {\n",
       "        vertical-align: middle;\n",
       "    }\n",
       "\n",
       "    .dataframe tbody tr th {\n",
       "        vertical-align: top;\n",
       "    }\n",
       "\n",
       "    .dataframe thead th {\n",
       "        text-align: right;\n",
       "    }\n",
       "</style>\n",
       "<table border=\"1\" class=\"dataframe\">\n",
       "  <thead>\n",
       "    <tr style=\"text-align: right;\">\n",
       "      <th></th>\n",
       "      <th>date</th>\n",
       "      <th>isolated_today_contact_with_confirmed</th>\n",
       "      <th>isolated_today_abroad</th>\n",
       "      <th>new_contact_with_confirmed</th>\n",
       "      <th>new_from_abroad</th>\n",
       "    </tr>\n",
       "  </thead>\n",
       "  <tbody>\n",
       "    <tr>\n",
       "      <td>0</td>\n",
       "      <td>2020-06-21</td>\n",
       "      <td>13664</td>\n",
       "      <td>8690</td>\n",
       "      <td>2373</td>\n",
       "      <td>392</td>\n",
       "    </tr>\n",
       "    <tr>\n",
       "      <td>1</td>\n",
       "      <td>2020-06-20</td>\n",
       "      <td>12037</td>\n",
       "      <td>8805</td>\n",
       "      <td>1415</td>\n",
       "      <td>261</td>\n",
       "    </tr>\n",
       "    <tr>\n",
       "      <td>2</td>\n",
       "      <td>2020-06-19</td>\n",
       "      <td>11392</td>\n",
       "      <td>8932</td>\n",
       "      <td>1760</td>\n",
       "      <td>826</td>\n",
       "    </tr>\n",
       "    <tr>\n",
       "      <td>3</td>\n",
       "      <td>2020-06-18</td>\n",
       "      <td>11728</td>\n",
       "      <td>9163</td>\n",
       "      <td>1622</td>\n",
       "      <td>521</td>\n",
       "    </tr>\n",
       "    <tr>\n",
       "      <td>4</td>\n",
       "      <td>2020-06-17</td>\n",
       "      <td>11252</td>\n",
       "      <td>9128</td>\n",
       "      <td>1421</td>\n",
       "      <td>463</td>\n",
       "    </tr>\n",
       "  </tbody>\n",
       "</table>\n",
       "</div>"
      ],
      "text/plain": [
       "         date  isolated_today_contact_with_confirmed  isolated_today_abroad  \\\n",
       "0  2020-06-21                                  13664                   8690   \n",
       "1  2020-06-20                                  12037                   8805   \n",
       "2  2020-06-19                                  11392                   8932   \n",
       "3  2020-06-18                                  11728                   9163   \n",
       "4  2020-06-17                                  11252                   9128   \n",
       "\n",
       "  new_contact_with_confirmed new_from_abroad  \n",
       "0                       2373             392  \n",
       "1                       1415             261  \n",
       "2                       1760             826  \n",
       "3                       1622             521  \n",
       "4                       1421             463  "
      ]
     },
     "execution_count": 109,
     "metadata": {},
     "output_type": "execute_result"
    }
   ],
   "source": [
    "iso = pd.read_csv('data/corona_isolation_per_day_ver_0024.csv.gz',\n",
    "                  encoding='utf-8-sig', low_memory=False)\n",
    "iso.head()"
   ]
  },
  {
   "cell_type": "code",
   "execution_count": 110,
   "metadata": {
    "colab": {
     "base_uri": "https://localhost:8080/",
     "height": 240
    },
    "colab_type": "code",
    "id": "HGktyCHnAAFb",
    "outputId": "4662303b-83ae-4459-a540-19add23984d8"
   },
   "outputs": [
    {
     "data": {
      "text/plain": [
       "test_date              datetime64[ns]\n",
       "cough                           int64\n",
       "fever                           int64\n",
       "sore_throat                     int64\n",
       "shortness_of_breath             int64\n",
       "head_ache                       int64\n",
       "corona_result                  object\n",
       "age_60_and_above               object\n",
       "gender                         object\n",
       "test_indication                object\n",
       "symp_num                        int32\n",
       "no_symp                          bool\n",
       "dtype: object"
      ]
     },
     "execution_count": 110,
     "metadata": {},
     "output_type": "execute_result"
    }
   ],
   "source": [
    "niv.dtypes"
   ]
  },
  {
   "cell_type": "code",
   "execution_count": 111,
   "metadata": {
    "colab": {
     "base_uri": "https://localhost:8080/",
     "height": 68
    },
    "colab_type": "code",
    "id": "K7mT3ZQgNV_e",
    "outputId": "6757dae1-81e9-40a8-c358-2d4cb15c5654"
   },
   "outputs": [
    {
     "data": {
      "text/plain": [
       "No     158330\n",
       "Yes     32505\n",
       "Name: age_60_and_above, dtype: int64"
      ]
     },
     "execution_count": 111,
     "metadata": {},
     "output_type": "execute_result"
    }
   ],
   "source": [
    "niv.age_60_and_above.value_counts()"
   ]
  },
  {
   "cell_type": "code",
   "execution_count": 112,
   "metadata": {
    "colab": {
     "base_uri": "https://localhost:8080/",
     "height": 313
    },
    "colab_type": "code",
    "id": "A7ou6Uwb5v4f",
    "outputId": "3b38dffd-09e7-430e-aca5-7b354d6b9cad"
   },
   "outputs": [
    {
     "data": {
      "text/plain": [
       "<matplotlib.axes._subplots.AxesSubplot at 0x22816c249c8>"
      ]
     },
     "execution_count": 112,
     "metadata": {},
     "output_type": "execute_result"
    },
    {
     "data": {
      "image/png": "[encoded data removed]",
      "text/plain": [
       "<Figure size 432x288 with 1 Axes>"
      ]
     },
     "metadata": {},
     "output_type": "display_data"
    }
   ],
   "source": [
    "niv.groupby('test_date')[symptom_cols].sum().plot()"
   ]
  },
  {
   "cell_type": "code",
   "execution_count": 113,
   "metadata": {
    "colab": {
     "base_uri": "https://localhost:8080/",
     "height": 313
    },
    "colab_type": "code",
    "id": "TUiXZm_uA_9P",
    "outputId": "8566b337-9ccf-4f8a-b51c-bc226ea9c7fd"
   },
   "outputs": [
    {
     "data": {
      "text/plain": [
       "<matplotlib.axes._subplots.AxesSubplot at 0x22818e3a508>"
      ]
     },
     "execution_count": 113,
     "metadata": {},
     "output_type": "execute_result"
    },
    {
     "data": {
      "image/png": "[encoded data removed]",
      "text/plain": [
       "<Figure size 432x288 with 1 Axes>"
      ]
     },
     "metadata": {},
     "output_type": "display_data"
    }
   ],
   "source": [
    "sn = niv.groupby(['test_date', 'symp_num']).size().unstack()\n",
    "(sn.div(sn.sum(axis=1), axis=0)).plot()"
   ]
  },
  {
   "cell_type": "code",
   "execution_count": 114,
   "metadata": {
    "colab": {
     "base_uri": "https://localhost:8080/",
     "height": 477
    },
    "colab_type": "code",
    "id": "__zPwIO95JSQ",
    "outputId": "675c1f51-47e2-44ba-a967-29a3f67679d2"
   },
   "outputs": [
    {
     "data": {
      "text/plain": [
       "<matplotlib.axes._subplots.AxesSubplot at 0x2280f70a408>"
      ]
     },
     "execution_count": 114,
     "metadata": {},
     "output_type": "execute_result"
    },
    {
     "data": {
      "image/png": "[encoded data removed]",
      "text/plain": [
       "<Figure size 720x504 with 1 Axes>"
      ]
     },
     "metadata": {},
     "output_type": "display_data"
    }
   ],
   "source": [
    "ti = niv.groupby(['test_date', 'test_indication']).size().unstack()\n",
    "(ti.div(ti.sum(axis=1), axis=0)).plot(figsize=(10,7))"
   ]
  },
  {
   "cell_type": "code",
   "execution_count": 115,
   "metadata": {
    "colab": {
     "base_uri": "https://localhost:8080/",
     "height": 313
    },
    "colab_type": "code",
    "id": "_PyS74DOCaru",
    "outputId": "a376ed42-c54e-4668-c4a1-ae63e0acd4c8"
   },
   "outputs": [
    {
     "data": {
      "text/plain": [
       "<matplotlib.axes._subplots.AxesSubplot at 0x228167f1b08>"
      ]
     },
     "execution_count": 115,
     "metadata": {},
     "output_type": "execute_result"
    },
    {
     "data": {
      "image/png": "[encoded data removed]",
      "text/plain": [
       "<Figure size 432x288 with 1 Axes>"
      ]
     },
     "metadata": {},
     "output_type": "display_data"
    }
   ],
   "source": [
    "niv[niv.corona_result!='other'].groupby(['test_date', 'corona_result']).size().unstack().plot()"
   ]
  },
  {
   "cell_type": "code",
   "execution_count": 116,
   "metadata": {
    "colab": {
     "base_uri": "https://localhost:8080/",
     "height": 120
    },
    "colab_type": "code",
    "id": "oKHefSLWGSyl",
    "outputId": "657cd224-fab8-40a9-aa31-1f7c1b6c1a19"
   },
   "outputs": [
    {
     "data": {
      "text/plain": [
       "test_date         datetime64[ns]\n",
       "result_date       datetime64[ns]\n",
       "corona_result             object\n",
       "lab_id                     int64\n",
       "is_first_Test             object\n",
       "orig_test_date    datetime64[ns]\n",
       "dtype: object"
      ]
     },
     "execution_count": 116,
     "metadata": {},
     "output_type": "execute_result"
    }
   ],
   "source": [
    "bdi.dtypes"
   ]
  },
  {
   "cell_type": "code",
   "execution_count": 117,
   "metadata": {
    "colab": {
     "base_uri": "https://localhost:8080/",
     "height": 313
    },
    "colab_type": "code",
    "id": "dB73z_VEGiaz",
    "outputId": "a068317f-8a67-47a1-8a69-56eb4cb8b156"
   },
   "outputs": [
    {
     "data": {
      "text/plain": [
       "<matplotlib.axes._subplots.AxesSubplot at 0x22816b9f108>"
      ]
     },
     "execution_count": 117,
     "metadata": {},
     "output_type": "execute_result"
    },
    {
     "data": {
      "image/png": "[encoded data removed]",
      "text/plain": [
       "<Figure size 432x288 with 1 Axes>"
      ]
     },
     "metadata": {},
     "output_type": "display_data"
    }
   ],
   "source": [
    "pd.concat([bdi[(bdi.test_date>'2020') & (bdi.corona_result.isin(['positive', 'negative'])) & (bdi.is_first_Test=='Yes')].groupby(['test_date', 'corona_result']).size().unstack(),\n",
    "           niv[niv.corona_result!='other'].groupby(['test_date', 'corona_result']).size().unstack()], keys=['bdi', 'niv'], axis=1).plot()"
   ]
  },
  {
   "cell_type": "code",
   "execution_count": 118,
   "metadata": {
    "colab": {
     "base_uri": "https://localhost:8080/",
     "height": 313
    },
    "colab_type": "code",
    "id": "ahWl6D3HGl2V",
    "outputId": "11fb6dca-4757-48db-bb23-bb8e1b69c175"
   },
   "outputs": [
    {
     "data": {
      "text/plain": [
       "<matplotlib.axes._subplots.AxesSubplot at 0x22815ff3848>"
      ]
     },
     "execution_count": 118,
     "metadata": {},
     "output_type": "execute_result"
    },
    {
     "data": {
      "image/png": "[encoded data removed]",
      "text/plain": [
       "<Figure size 432x288 with 1 Axes>"
      ]
     },
     "metadata": {},
     "output_type": "display_data"
    }
   ],
   "source": [
    "bdi[(bdi.test_date<'2021') & (bdi.corona_result.isin(['positive', 'negative'])) & (bdi.is_first_Test=='Yes')].groupby(['test_date', 'corona_result']).size().unstack().plot()"
   ]
  },
  {
   "cell_type": "code",
   "execution_count": 119,
   "metadata": {
    "colab": {
     "base_uri": "https://localhost:8080/",
     "height": 448
    },
    "colab_type": "code",
    "id": "0l5XwedGVi4Q",
    "outputId": "8d376bf9-260a-4fa2-e55a-9460ec1e49f0"
   },
   "outputs": [
    {
     "data": {
      "text/html": [
       "<div>\n",
       "<style scoped>\n",
       "    .dataframe tbody tr th:only-of-type {\n",
       "        vertical-align: middle;\n",
       "    }\n",
       "\n",
       "    .dataframe tbody tr th {\n",
       "        vertical-align: top;\n",
       "    }\n",
       "\n",
       "    .dataframe thead th {\n",
       "        text-align: right;\n",
       "    }\n",
       "</style>\n",
       "<table border=\"1\" class=\"dataframe\">\n",
       "  <thead>\n",
       "    <tr style=\"text-align: right;\">\n",
       "      <th>corona_result</th>\n",
       "      <th>negative</th>\n",
       "      <th>positive</th>\n",
       "    </tr>\n",
       "    <tr>\n",
       "      <th>test_date</th>\n",
       "      <th></th>\n",
       "      <th></th>\n",
       "    </tr>\n",
       "  </thead>\n",
       "  <tbody>\n",
       "    <tr>\n",
       "      <td>2020-03-11</td>\n",
       "      <td>2</td>\n",
       "      <td>3</td>\n",
       "    </tr>\n",
       "    <tr>\n",
       "      <td>2020-03-12</td>\n",
       "      <td>21</td>\n",
       "      <td>7</td>\n",
       "    </tr>\n",
       "    <tr>\n",
       "      <td>2020-03-13</td>\n",
       "      <td>21</td>\n",
       "      <td>2</td>\n",
       "    </tr>\n",
       "    <tr>\n",
       "      <td>2020-03-14</td>\n",
       "      <td>24</td>\n",
       "      <td>1</td>\n",
       "    </tr>\n",
       "    <tr>\n",
       "      <td>2020-03-15</td>\n",
       "      <td>70</td>\n",
       "      <td>47</td>\n",
       "    </tr>\n",
       "    <tr>\n",
       "      <td>...</td>\n",
       "      <td>...</td>\n",
       "      <td>...</td>\n",
       "    </tr>\n",
       "    <tr>\n",
       "      <td>2020-06-18</td>\n",
       "      <td>4486</td>\n",
       "      <td>132</td>\n",
       "    </tr>\n",
       "    <tr>\n",
       "      <td>2020-06-19</td>\n",
       "      <td>2845</td>\n",
       "      <td>128</td>\n",
       "    </tr>\n",
       "    <tr>\n",
       "      <td>2020-06-20</td>\n",
       "      <td>776</td>\n",
       "      <td>25</td>\n",
       "    </tr>\n",
       "    <tr>\n",
       "      <td>2020-06-21</td>\n",
       "      <td>3924</td>\n",
       "      <td>156</td>\n",
       "    </tr>\n",
       "    <tr>\n",
       "      <td>2020-06-22</td>\n",
       "      <td>2138</td>\n",
       "      <td>100</td>\n",
       "    </tr>\n",
       "  </tbody>\n",
       "</table>\n",
       "<p>104 rows × 2 columns</p>\n",
       "</div>"
      ],
      "text/plain": [
       "corona_result  negative  positive\n",
       "test_date                        \n",
       "2020-03-11            2         3\n",
       "2020-03-12           21         7\n",
       "2020-03-13           21         2\n",
       "2020-03-14           24         1\n",
       "2020-03-15           70        47\n",
       "...                 ...       ...\n",
       "2020-06-18         4486       132\n",
       "2020-06-19         2845       128\n",
       "2020-06-20          776        25\n",
       "2020-06-21         3924       156\n",
       "2020-06-22         2138       100\n",
       "\n",
       "[104 rows x 2 columns]"
      ]
     },
     "execution_count": 119,
     "metadata": {},
     "output_type": "execute_result"
    }
   ],
   "source": [
    "bdi[(bdi.test_date<'2021') & (bdi.corona_result.isin(['positive', 'negative'])) & (bdi.is_first_Test=='No')].groupby(['test_date', 'corona_result']).size().unstack()"
   ]
  },
  {
   "cell_type": "code",
   "execution_count": 120,
   "metadata": {
    "colab": {
     "base_uri": "https://localhost:8080/",
     "height": 511
    },
    "colab_type": "code",
    "id": "FggclgHBuD8X",
    "outputId": "80c15db9-9ddd-498b-bb02-3350cdd3b03d"
   },
   "outputs": [
    {
     "data": {
      "text/html": [
       "<div>\n",
       "<style scoped>\n",
       "    .dataframe tbody tr th:only-of-type {\n",
       "        vertical-align: middle;\n",
       "    }\n",
       "\n",
       "    .dataframe tbody tr th {\n",
       "        vertical-align: top;\n",
       "    }\n",
       "\n",
       "    .dataframe thead th {\n",
       "        text-align: right;\n",
       "    }\n",
       "</style>\n",
       "<table border=\"1\" class=\"dataframe\">\n",
       "  <thead>\n",
       "    <tr style=\"text-align: right;\">\n",
       "      <th>corona_result</th>\n",
       "      <th>Other</th>\n",
       "      <th>in_progress</th>\n",
       "      <th>negative</th>\n",
       "      <th>positive</th>\n",
       "      <th>uncertain</th>\n",
       "    </tr>\n",
       "    <tr>\n",
       "      <th>test_date</th>\n",
       "      <th></th>\n",
       "      <th></th>\n",
       "      <th></th>\n",
       "      <th></th>\n",
       "      <th></th>\n",
       "    </tr>\n",
       "  </thead>\n",
       "  <tbody>\n",
       "    <tr>\n",
       "      <td>2020-05-08</td>\n",
       "      <td>28.0</td>\n",
       "      <td>NaN</td>\n",
       "      <td>4200.0</td>\n",
       "      <td>18.0</td>\n",
       "      <td>NaN</td>\n",
       "    </tr>\n",
       "    <tr>\n",
       "      <td>2020-05-09</td>\n",
       "      <td>31.0</td>\n",
       "      <td>NaN</td>\n",
       "      <td>1057.0</td>\n",
       "      <td>9.0</td>\n",
       "      <td>NaN</td>\n",
       "    </tr>\n",
       "    <tr>\n",
       "      <td>2020-05-12</td>\n",
       "      <td>46.0</td>\n",
       "      <td>NaN</td>\n",
       "      <td>5250.0</td>\n",
       "      <td>19.0</td>\n",
       "      <td>NaN</td>\n",
       "    </tr>\n",
       "    <tr>\n",
       "      <td>2020-05-14</td>\n",
       "      <td>57.0</td>\n",
       "      <td>1.0</td>\n",
       "      <td>4380.0</td>\n",
       "      <td>16.0</td>\n",
       "      <td>NaN</td>\n",
       "    </tr>\n",
       "    <tr>\n",
       "      <td>2020-05-15</td>\n",
       "      <td>28.0</td>\n",
       "      <td>NaN</td>\n",
       "      <td>2184.0</td>\n",
       "      <td>7.0</td>\n",
       "      <td>NaN</td>\n",
       "    </tr>\n",
       "    <tr>\n",
       "      <td>2020-05-16</td>\n",
       "      <td>25.0</td>\n",
       "      <td>NaN</td>\n",
       "      <td>559.0</td>\n",
       "      <td>4.0</td>\n",
       "      <td>NaN</td>\n",
       "    </tr>\n",
       "    <tr>\n",
       "      <td>2020-05-17</td>\n",
       "      <td>58.0</td>\n",
       "      <td>NaN</td>\n",
       "      <td>3314.0</td>\n",
       "      <td>15.0</td>\n",
       "      <td>NaN</td>\n",
       "    </tr>\n",
       "    <tr>\n",
       "      <td>2020-05-19</td>\n",
       "      <td>32.0</td>\n",
       "      <td>NaN</td>\n",
       "      <td>4104.0</td>\n",
       "      <td>12.0</td>\n",
       "      <td>NaN</td>\n",
       "    </tr>\n",
       "    <tr>\n",
       "      <td>2020-05-20</td>\n",
       "      <td>42.0</td>\n",
       "      <td>NaN</td>\n",
       "      <td>3768.0</td>\n",
       "      <td>16.0</td>\n",
       "      <td>NaN</td>\n",
       "    </tr>\n",
       "    <tr>\n",
       "      <td>2020-05-21</td>\n",
       "      <td>36.0</td>\n",
       "      <td>NaN</td>\n",
       "      <td>4133.0</td>\n",
       "      <td>18.0</td>\n",
       "      <td>NaN</td>\n",
       "    </tr>\n",
       "    <tr>\n",
       "      <td>2020-05-22</td>\n",
       "      <td>37.0</td>\n",
       "      <td>NaN</td>\n",
       "      <td>2654.0</td>\n",
       "      <td>17.0</td>\n",
       "      <td>NaN</td>\n",
       "    </tr>\n",
       "    <tr>\n",
       "      <td>2020-05-23</td>\n",
       "      <td>27.0</td>\n",
       "      <td>NaN</td>\n",
       "      <td>358.0</td>\n",
       "      <td>3.0</td>\n",
       "      <td>NaN</td>\n",
       "    </tr>\n",
       "    <tr>\n",
       "      <td>2020-05-24</td>\n",
       "      <td>51.0</td>\n",
       "      <td>NaN</td>\n",
       "      <td>2841.0</td>\n",
       "      <td>4.0</td>\n",
       "      <td>NaN</td>\n",
       "    </tr>\n",
       "  </tbody>\n",
       "</table>\n",
       "</div>"
      ],
      "text/plain": [
       "corona_result  Other  in_progress  negative  positive  uncertain\n",
       "test_date                                                       \n",
       "2020-05-08      28.0          NaN    4200.0      18.0        NaN\n",
       "2020-05-09      31.0          NaN    1057.0       9.0        NaN\n",
       "2020-05-12      46.0          NaN    5250.0      19.0        NaN\n",
       "2020-05-14      57.0          1.0    4380.0      16.0        NaN\n",
       "2020-05-15      28.0          NaN    2184.0       7.0        NaN\n",
       "2020-05-16      25.0          NaN     559.0       4.0        NaN\n",
       "2020-05-17      58.0          NaN    3314.0      15.0        NaN\n",
       "2020-05-19      32.0          NaN    4104.0      12.0        NaN\n",
       "2020-05-20      42.0          NaN    3768.0      16.0        NaN\n",
       "2020-05-21      36.0          NaN    4133.0      18.0        NaN\n",
       "2020-05-22      37.0          NaN    2654.0      17.0        NaN\n",
       "2020-05-23      27.0          NaN     358.0       3.0        NaN\n",
       "2020-05-24      51.0          NaN    2841.0       4.0        NaN"
      ]
     },
     "execution_count": 120,
     "metadata": {},
     "output_type": "execute_result"
    }
   ],
   "source": [
    "pone = bdi[(bdi.test_date<'2021') & (bdi.is_first_Test=='Yes')].fillna('Other').groupby(['test_date', 'corona_result']).size().unstack()\n",
    "pone[pone.positive<20]"
   ]
  },
  {
   "cell_type": "code",
   "execution_count": 121,
   "metadata": {
    "colab": {
     "base_uri": "https://localhost:8080/",
     "height": 234
    },
    "colab_type": "code",
    "id": "3c1gmcsrumgh",
    "outputId": "882cb0c5-b4d5-44d4-c3b7-236187d78435"
   },
   "outputs": [
    {
     "data": {
      "text/html": [
       "<div>\n",
       "<style scoped>\n",
       "    .dataframe tbody tr th:only-of-type {\n",
       "        vertical-align: middle;\n",
       "    }\n",
       "\n",
       "    .dataframe tbody tr th {\n",
       "        vertical-align: top;\n",
       "    }\n",
       "\n",
       "    .dataframe thead th {\n",
       "        text-align: right;\n",
       "    }\n",
       "</style>\n",
       "<table border=\"1\" class=\"dataframe\">\n",
       "  <thead>\n",
       "    <tr style=\"text-align: right;\">\n",
       "      <th>corona_result</th>\n",
       "      <th>Other</th>\n",
       "      <th>in_progress</th>\n",
       "      <th>negative</th>\n",
       "      <th>positive</th>\n",
       "      <th>uncertain</th>\n",
       "    </tr>\n",
       "    <tr>\n",
       "      <th>test_date</th>\n",
       "      <th></th>\n",
       "      <th></th>\n",
       "      <th></th>\n",
       "      <th></th>\n",
       "      <th></th>\n",
       "    </tr>\n",
       "  </thead>\n",
       "  <tbody>\n",
       "    <tr>\n",
       "      <td>2020-06-18</td>\n",
       "      <td>49.0</td>\n",
       "      <td>NaN</td>\n",
       "      <td>10185.0</td>\n",
       "      <td>272.0</td>\n",
       "      <td>NaN</td>\n",
       "    </tr>\n",
       "    <tr>\n",
       "      <td>2020-06-19</td>\n",
       "      <td>39.0</td>\n",
       "      <td>NaN</td>\n",
       "      <td>6968.0</td>\n",
       "      <td>226.0</td>\n",
       "      <td>NaN</td>\n",
       "    </tr>\n",
       "    <tr>\n",
       "      <td>2020-06-20</td>\n",
       "      <td>34.0</td>\n",
       "      <td>NaN</td>\n",
       "      <td>2483.0</td>\n",
       "      <td>57.0</td>\n",
       "      <td>NaN</td>\n",
       "    </tr>\n",
       "    <tr>\n",
       "      <td>2020-06-21</td>\n",
       "      <td>50.0</td>\n",
       "      <td>NaN</td>\n",
       "      <td>8670.0</td>\n",
       "      <td>251.0</td>\n",
       "      <td>NaN</td>\n",
       "    </tr>\n",
       "    <tr>\n",
       "      <td>2020-06-22</td>\n",
       "      <td>37.0</td>\n",
       "      <td>NaN</td>\n",
       "      <td>4732.0</td>\n",
       "      <td>134.0</td>\n",
       "      <td>NaN</td>\n",
       "    </tr>\n",
       "  </tbody>\n",
       "</table>\n",
       "</div>"
      ],
      "text/plain": [
       "corona_result  Other  in_progress  negative  positive  uncertain\n",
       "test_date                                                       \n",
       "2020-06-18      49.0          NaN   10185.0     272.0        NaN\n",
       "2020-06-19      39.0          NaN    6968.0     226.0        NaN\n",
       "2020-06-20      34.0          NaN    2483.0      57.0        NaN\n",
       "2020-06-21      50.0          NaN    8670.0     251.0        NaN\n",
       "2020-06-22      37.0          NaN    4732.0     134.0        NaN"
      ]
     },
     "execution_count": 121,
     "metadata": {},
     "output_type": "execute_result"
    }
   ],
   "source": [
    "pone.tail(5)"
   ]
  },
  {
   "cell_type": "code",
   "execution_count": 122,
   "metadata": {
    "colab": {
     "base_uri": "https://localhost:8080/",
     "height": 315
    },
    "colab_type": "code",
    "id": "Xf0sYgyJU60f",
    "outputId": "33fcb7bf-756e-4309-9935-0ae456acc932"
   },
   "outputs": [
    {
     "data": {
      "text/plain": [
       "<matplotlib.axes._subplots.AxesSubplot at 0x2281008dd48>"
      ]
     },
     "execution_count": 122,
     "metadata": {},
     "output_type": "execute_result"
    },
    {
     "data": {
      "image/png": "[encoded data removed]",
      "text/plain": [
       "<Figure size 432x288 with 1 Axes>"
      ]
     },
     "metadata": {},
     "output_type": "display_data"
    }
   ],
   "source": [
    "ti = bdi[(bdi.test_date>'2020') & (bdi.test_date<'2021')].groupby(['test_date', 'is_first_Test']).size().unstack()\n",
    "(ti.div(ti.sum(axis=1), axis=0)).plot()"
   ]
  },
  {
   "cell_type": "code",
   "execution_count": 123,
   "metadata": {
    "colab": {
     "base_uri": "https://localhost:8080/",
     "height": 313
    },
    "colab_type": "code",
    "id": "HLhX9uXOWyab",
    "outputId": "dddf8fb7-5dc4-40ba-8d39-c0c6c92d7f5b"
   },
   "outputs": [
    {
     "data": {
      "text/plain": [
       "<matplotlib.axes._subplots.AxesSubplot at 0x2280f6a64c8>"
      ]
     },
     "execution_count": 123,
     "metadata": {},
     "output_type": "execute_result"
    },
    {
     "data": {
      "image/png": "[encoded data removed]",
      "text/plain": [
       "<Figure size 432x288 with 1 Axes>"
      ]
     },
     "metadata": {},
     "output_type": "display_data"
    }
   ],
   "source": [
    "ti.plot()"
   ]
  },
  {
   "cell_type": "code",
   "execution_count": 124,
   "metadata": {
    "colab": {
     "base_uri": "https://localhost:8080/",
     "height": 313
    },
    "colab_type": "code",
    "id": "RWy852-ZLvg5",
    "outputId": "4ebe0fc7-3908-4e9f-b52f-462c94f6ffa7"
   },
   "outputs": [
    {
     "data": {
      "text/plain": [
       "<matplotlib.axes._subplots.AxesSubplot at 0x22802880908>"
      ]
     },
     "execution_count": 124,
     "metadata": {},
     "output_type": "execute_result"
    },
    {
     "data": {
      "image/png": "[encoded data removed]",
      "text/plain": [
       "<Figure size 432x288 with 1 Axes>"
      ]
     },
     "metadata": {},
     "output_type": "display_data"
    }
   ],
   "source": [
    "(bdi[(bdi.test_date>'2020') & (bdi.test_date<'2021')&(bdi.corona_result.isin(['positive', 'negative'])) & (bdi.is_first_Test=='Yes')]\n",
    " .groupby(['test_date', 'corona_result']).size().unstack()\n",
    " .assign(positive_rate=lambda x: x.positive/(x.positive+x.negative))[['positive_rate']]\n",
    " .plot())"
   ]
  },
  {
   "cell_type": "code",
   "execution_count": 125,
   "metadata": {
    "colab": {
     "base_uri": "https://localhost:8080/",
     "height": 234
    },
    "colab_type": "code",
    "id": "EDsfY0ciXVK3",
    "outputId": "00a9520c-1ca1-4d40-b793-c8656ebcadd9"
   },
   "outputs": [
    {
     "data": {
      "text/html": [
       "<div>\n",
       "<style scoped>\n",
       "    .dataframe tbody tr th:only-of-type {\n",
       "        vertical-align: middle;\n",
       "    }\n",
       "\n",
       "    .dataframe tbody tr th {\n",
       "        vertical-align: top;\n",
       "    }\n",
       "\n",
       "    .dataframe thead th {\n",
       "        text-align: right;\n",
       "    }\n",
       "</style>\n",
       "<table border=\"1\" class=\"dataframe\">\n",
       "  <thead>\n",
       "    <tr style=\"text-align: right;\">\n",
       "      <th>is_first_Test</th>\n",
       "      <th>No</th>\n",
       "      <th>Yes</th>\n",
       "    </tr>\n",
       "    <tr>\n",
       "      <th>test_date</th>\n",
       "      <th></th>\n",
       "      <th></th>\n",
       "    </tr>\n",
       "  </thead>\n",
       "  <tbody>\n",
       "    <tr>\n",
       "      <td>2020-06-18</td>\n",
       "      <td>4737</td>\n",
       "      <td>10506</td>\n",
       "    </tr>\n",
       "    <tr>\n",
       "      <td>2020-06-19</td>\n",
       "      <td>3096</td>\n",
       "      <td>7233</td>\n",
       "    </tr>\n",
       "    <tr>\n",
       "      <td>2020-06-20</td>\n",
       "      <td>825</td>\n",
       "      <td>2574</td>\n",
       "    </tr>\n",
       "    <tr>\n",
       "      <td>2020-06-21</td>\n",
       "      <td>4193</td>\n",
       "      <td>8971</td>\n",
       "    </tr>\n",
       "    <tr>\n",
       "      <td>2020-06-22</td>\n",
       "      <td>2314</td>\n",
       "      <td>4903</td>\n",
       "    </tr>\n",
       "  </tbody>\n",
       "</table>\n",
       "</div>"
      ],
      "text/plain": [
       "is_first_Test    No    Yes\n",
       "test_date                 \n",
       "2020-06-18     4737  10506\n",
       "2020-06-19     3096   7233\n",
       "2020-06-20      825   2574\n",
       "2020-06-21     4193   8971\n",
       "2020-06-22     2314   4903"
      ]
     },
     "execution_count": 125,
     "metadata": {},
     "output_type": "execute_result"
    }
   ],
   "source": [
    "import altair as alt\n",
    "ti.tail()"
   ]
  },
  {
   "cell_type": "code",
   "execution_count": 126,
   "metadata": {
    "colab": {
     "base_uri": "https://localhost:8080/",
     "height": 34
    },
    "colab_type": "code",
    "id": "TMBbVWKbdur2",
    "outputId": "c9db8e88-cae0-47b3-90a1-4e4ce646e3d8"
   },
   "outputs": [
    {
     "data": {
      "text/plain": [
       "860313"
      ]
     },
     "execution_count": 126,
     "metadata": {},
     "output_type": "execute_result"
    }
   ],
   "source": [
    "ti.Yes.sum() + ti.No.sum()"
   ]
  },
  {
   "cell_type": "code",
   "execution_count": 127,
   "metadata": {
    "colab": {
     "base_uri": "https://localhost:8080/",
     "height": 368
    },
    "colab_type": "code",
    "id": "K5gcGT84wOox",
    "outputId": "4ecfdb63-86fc-45d6-8b8c-5b56cd6e0a41"
   },
   "outputs": [
    {
     "data": {
      "text/html": [
       "\n",
       "<div id=\"altair-viz-4b0827ce963e4966a6dfc32c4e32b031\"></div>\n",
       "<script type=\"text/javascript\">\n",
       "  (function(spec, embedOpt){\n",
       "    let outputDiv = document.currentScript.previousElementSibling;\n",
       "    if (outputDiv.id !== \"altair-viz-4b0827ce963e4966a6dfc32c4e32b031\") {\n",
       "      outputDiv = document.getElementById(\"altair-viz-4b0827ce963e4966a6dfc32c4e32b031\");\n",
       "    }\n",
       "    const paths = {\n",
       "      \"vega\": \"https://cdn.jsdelivr.net/npm//vega@5?noext\",\n",
       "      \"vega-lib\": \"https://cdn.jsdelivr.net/npm//vega-lib?noext\",\n",
       "      \"vega-lite\": \"https://cdn.jsdelivr.net/npm//vega-lite@4.8.1?noext\",\n",
       "      \"vega-embed\": \"https://cdn.jsdelivr.net/npm//vega-embed@6?noext\",\n",
       "    };\n",
       "\n",
       "    function loadScript(lib) {\n",
       "      return new Promise(function(resolve, reject) {\n",
       "        var s = document.createElement('script');\n",
       "        s.src = paths[lib];\n",
       "        s.async = true;\n",
       "        s.onload = () => resolve(paths[lib]);\n",
       "        s.onerror = () => reject(`Error loading script: ${paths[lib]}`);\n",
       "        document.getElementsByTagName(\"head\")[0].appendChild(s);\n",
       "      });\n",
       "    }\n",
       "\n",
       "    function showError(err) {\n",
       "      outputDiv.innerHTML = `<div class=\"error\" style=\"color:red;\">${err}</div>`;\n",
       "      throw err;\n",
       "    }\n",
       "\n",
       "    function displayChart(vegaEmbed) {\n",
       "      vegaEmbed(outputDiv, spec, embedOpt)\n",
       "        .catch(err => showError(`Javascript Error: ${err.message}<br>This usually means there's a typo in your chart specification. See the javascript console for the full traceback.`));\n",
       "    }\n",
       "\n",
       "    if(typeof define === \"function\" && define.amd) {\n",
       "      requirejs.config({paths});\n",
       "      require([\"vega-embed\"], displayChart, err => showError(`Error loading script: ${err.message}`));\n",
       "    } else if (typeof vegaEmbed === \"function\") {\n",
       "      displayChart(vegaEmbed);\n",
       "    } else {\n",
       "      loadScript(\"vega\")\n",
       "        .then(() => loadScript(\"vega-lite\"))\n",
       "        .then(() => loadScript(\"vega-embed\"))\n",
       "        .catch(showError)\n",
       "        .then(() => displayChart(vegaEmbed));\n",
       "    }\n",
       "  })({\"config\": {\"view\": {\"continuousWidth\": 400, \"continuousHeight\": 300}}, \"data\": {\"name\": \"data-f69b05f1c4c01d52b9e811f743c51673\"}, \"mark\": \"line\", \"encoding\": {\"tooltip\": [{\"type\": \"temporal\", \"field\": \"test_date\"}, {\"type\": \"quantitative\", \"field\": \"Yes\"}], \"x\": {\"type\": \"temporal\", \"field\": \"test_date\"}, \"y\": {\"type\": \"quantitative\", \"field\": \"Yes\"}}, \"selection\": {\"selector003\": {\"type\": \"interval\", \"bind\": \"scales\", \"encodings\": [\"x\", \"y\"]}}, \"$schema\": \"https://vega.github.io/schema/vega-lite/v4.8.1.json\", \"datasets\": {\"data-f69b05f1c4c01d52b9e811f743c51673\": [{\"test_date\": \"2020-03-11T00:00:00\", \"No\": 21, \"Yes\": 344, \"total\": 365}, {\"test_date\": \"2020-03-12T00:00:00\", \"No\": 29, \"Yes\": 705, \"total\": 734}, {\"test_date\": \"2020-03-13T00:00:00\", \"No\": 28, \"Yes\": 690, \"total\": 718}, {\"test_date\": \"2020-03-14T00:00:00\", \"No\": 26, \"Yes\": 671, \"total\": 697}, {\"test_date\": \"2020-03-15T00:00:00\", \"No\": 136, \"Yes\": 1107, \"total\": 1243}, {\"test_date\": \"2020-03-16T00:00:00\", \"No\": 155, \"Yes\": 1436, \"total\": 1591}, {\"test_date\": \"2020-03-17T00:00:00\", \"No\": 206, \"Yes\": 1606, \"total\": 1812}, {\"test_date\": \"2020-03-18T00:00:00\", \"No\": 181, \"Yes\": 2055, \"total\": 2236}, {\"test_date\": \"2020-03-19T00:00:00\", \"No\": 246, \"Yes\": 2346, \"total\": 2592}, {\"test_date\": \"2020-03-20T00:00:00\", \"No\": 127, \"Yes\": 1891, \"total\": 2018}, {\"test_date\": \"2020-03-21T00:00:00\", \"No\": 137, \"Yes\": 1725, \"total\": 1862}, {\"test_date\": \"2020-03-22T00:00:00\", \"No\": 620, \"Yes\": 3632, \"total\": 4252}, {\"test_date\": \"2020-03-23T00:00:00\", \"No\": 403, \"Yes\": 3561, \"total\": 3964}, {\"test_date\": \"2020-03-24T00:00:00\", \"No\": 430, \"Yes\": 4895, \"total\": 5325}, {\"test_date\": \"2020-03-25T00:00:00\", \"No\": 428, \"Yes\": 5604, \"total\": 6032}, {\"test_date\": \"2020-03-26T00:00:00\", \"No\": 624, \"Yes\": 6722, \"total\": 7346}, {\"test_date\": \"2020-03-27T00:00:00\", \"No\": 523, \"Yes\": 6056, \"total\": 6579}, {\"test_date\": \"2020-03-28T00:00:00\", \"No\": 520, \"Yes\": 5603, \"total\": 6123}, {\"test_date\": \"2020-03-29T00:00:00\", \"No\": 674, \"Yes\": 5623, \"total\": 6297}, {\"test_date\": \"2020-03-30T00:00:00\", \"No\": 953, \"Yes\": 5961, \"total\": 6914}, {\"test_date\": \"2020-03-31T00:00:00\", \"No\": 1460, \"Yes\": 7230, \"total\": 8690}, {\"test_date\": \"2020-04-01T00:00:00\", \"No\": 1512, \"Yes\": 9100, \"total\": 10612}, {\"test_date\": \"2020-04-02T00:00:00\", \"No\": 1955, \"Yes\": 8490, \"total\": 10445}, {\"test_date\": \"2020-04-03T00:00:00\", \"No\": 1584, \"Yes\": 8433, \"total\": 10017}, {\"test_date\": \"2020-04-04T00:00:00\", \"No\": 834, \"Yes\": 5646, \"total\": 6480}, {\"test_date\": \"2020-04-05T00:00:00\", \"No\": 1619, \"Yes\": 7723, \"total\": 9342}, {\"test_date\": \"2020-04-06T00:00:00\", \"No\": 1934, \"Yes\": 5776, \"total\": 7710}, {\"test_date\": \"2020-04-07T00:00:00\", \"No\": 2045, \"Yes\": 6032, \"total\": 8077}, {\"test_date\": \"2020-04-08T00:00:00\", \"No\": 2058, \"Yes\": 4290, \"total\": 6348}, {\"test_date\": \"2020-04-09T00:00:00\", \"No\": 1608, \"Yes\": 4904, \"total\": 6512}, {\"test_date\": \"2020-04-10T00:00:00\", \"No\": 2151, \"Yes\": 5827, \"total\": 7978}, {\"test_date\": \"2020-04-11T00:00:00\", \"No\": 2216, \"Yes\": 4796, \"total\": 7012}, {\"test_date\": \"2020-04-12T00:00:00\", \"No\": 3216, \"Yes\": 6300, \"total\": 9516}, {\"test_date\": \"2020-04-13T00:00:00\", \"No\": 3633, \"Yes\": 8641, \"total\": 12274}, {\"test_date\": \"2020-04-14T00:00:00\", \"No\": 2920, \"Yes\": 6901, \"total\": 9821}, {\"test_date\": \"2020-04-15T00:00:00\", \"No\": 2613, \"Yes\": 7464, \"total\": 10077}, {\"test_date\": \"2020-04-16T00:00:00\", \"No\": 3198, \"Yes\": 9553, \"total\": 12751}, {\"test_date\": \"2020-04-17T00:00:00\", \"No\": 2811, \"Yes\": 7985, \"total\": 10796}, {\"test_date\": \"2020-04-18T00:00:00\", \"No\": 2956, \"Yes\": 6569, \"total\": 9525}, {\"test_date\": \"2020-04-19T00:00:00\", \"No\": 3977, \"Yes\": 10426, \"total\": 14403}, {\"test_date\": \"2020-04-20T00:00:00\", \"No\": 4135, \"Yes\": 11643, \"total\": 15778}, {\"test_date\": \"2020-04-21T00:00:00\", \"No\": 4030, \"Yes\": 9689, \"total\": 13719}, {\"test_date\": \"2020-04-22T00:00:00\", \"No\": 3756, \"Yes\": 9608, \"total\": 13364}, {\"test_date\": \"2020-04-23T00:00:00\", \"No\": 4243, \"Yes\": 8755, \"total\": 12998}, {\"test_date\": \"2020-04-24T00:00:00\", \"No\": 3607, \"Yes\": 6858, \"total\": 10465}, {\"test_date\": \"2020-04-25T00:00:00\", \"No\": 2536, \"Yes\": 4232, \"total\": 6768}, {\"test_date\": \"2020-04-26T00:00:00\", \"No\": 3451, \"Yes\": 6833, \"total\": 10284}, {\"test_date\": \"2020-04-27T00:00:00\", \"No\": 4449, \"Yes\": 7108, \"total\": 11557}, {\"test_date\": \"2020-04-28T00:00:00\", \"No\": 3608, \"Yes\": 6132, \"total\": 9740}, {\"test_date\": \"2020-04-29T00:00:00\", \"No\": 2618, \"Yes\": 4895, \"total\": 7513}, {\"test_date\": \"2020-04-30T00:00:00\", \"No\": 4012, \"Yes\": 8887, \"total\": 12899}, {\"test_date\": \"2020-05-01T00:00:00\", \"No\": 3234, \"Yes\": 7212, \"total\": 10446}, {\"test_date\": \"2020-05-02T00:00:00\", \"No\": 1475, \"Yes\": 2180, \"total\": 3655}, {\"test_date\": \"2020-05-03T00:00:00\", \"No\": 3147, \"Yes\": 6044, \"total\": 9191}, {\"test_date\": \"2020-05-04T00:00:00\", \"No\": 3647, \"Yes\": 5612, \"total\": 9259}, {\"test_date\": \"2020-05-05T00:00:00\", \"No\": 2909, \"Yes\": 6412, \"total\": 9321}, {\"test_date\": \"2020-05-06T00:00:00\", \"No\": 2818, \"Yes\": 6548, \"total\": 9366}, {\"test_date\": \"2020-05-07T00:00:00\", \"No\": 3466, \"Yes\": 7097, \"total\": 10563}, {\"test_date\": \"2020-05-08T00:00:00\", \"No\": 2211, \"Yes\": 4246, \"total\": 6457}, {\"test_date\": \"2020-05-09T00:00:00\", \"No\": 775, \"Yes\": 1097, \"total\": 1872}, {\"test_date\": \"2020-05-10T00:00:00\", \"No\": 2631, \"Yes\": 4561, \"total\": 7192}, {\"test_date\": \"2020-05-11T00:00:00\", \"No\": 2824, \"Yes\": 5677, \"total\": 8501}, {\"test_date\": \"2020-05-12T00:00:00\", \"No\": 2630, \"Yes\": 5315, \"total\": 7945}, {\"test_date\": \"2020-05-13T00:00:00\", \"No\": 2718, \"Yes\": 5126, \"total\": 7844}, {\"test_date\": \"2020-05-14T00:00:00\", \"No\": 3504, \"Yes\": 4454, \"total\": 7958}, {\"test_date\": \"2020-05-15T00:00:00\", \"No\": 2513, \"Yes\": 2219, \"total\": 4732}, {\"test_date\": \"2020-05-16T00:00:00\", \"No\": 389, \"Yes\": 588, \"total\": 977}, {\"test_date\": \"2020-05-17T00:00:00\", \"No\": 2614, \"Yes\": 3387, \"total\": 6001}, {\"test_date\": \"2020-05-18T00:00:00\", \"No\": 3318, \"Yes\": 4372, \"total\": 7690}, {\"test_date\": \"2020-05-19T00:00:00\", \"No\": 2732, \"Yes\": 4148, \"total\": 6880}, {\"test_date\": \"2020-05-20T00:00:00\", \"No\": 1985, \"Yes\": 3826, \"total\": 5811}, {\"test_date\": \"2020-05-21T00:00:00\", \"No\": 2160, \"Yes\": 4187, \"total\": 6347}, {\"test_date\": \"2020-05-22T00:00:00\", \"No\": 1169, \"Yes\": 2708, \"total\": 3877}, {\"test_date\": \"2020-05-23T00:00:00\", \"No\": 212, \"Yes\": 388, \"total\": 600}, {\"test_date\": \"2020-05-24T00:00:00\", \"No\": 1456, \"Yes\": 2896, \"total\": 4352}, {\"test_date\": \"2020-05-25T00:00:00\", \"No\": 1839, \"Yes\": 4300, \"total\": 6139}, {\"test_date\": \"2020-05-26T00:00:00\", \"No\": 3321, \"Yes\": 3740, \"total\": 7061}, {\"test_date\": \"2020-05-27T00:00:00\", \"No\": 1680, \"Yes\": 4327, \"total\": 6007}, {\"test_date\": \"2020-05-28T00:00:00\", \"No\": 954, \"Yes\": 3536, \"total\": 4490}, {\"test_date\": \"2020-05-29T00:00:00\", \"No\": 259, \"Yes\": 1245, \"total\": 1504}, {\"test_date\": \"2020-05-30T00:00:00\", \"No\": 328, \"Yes\": 1606, \"total\": 1934}, {\"test_date\": \"2020-05-31T00:00:00\", \"No\": 2046, \"Yes\": 5464, \"total\": 7510}, {\"test_date\": \"2020-06-01T00:00:00\", \"No\": 2743, \"Yes\": 9371, \"total\": 12114}, {\"test_date\": \"2020-06-02T00:00:00\", \"No\": 2872, \"Yes\": 12851, \"total\": 15723}, {\"test_date\": \"2020-06-03T00:00:00\", \"No\": 3063, \"Yes\": 12977, \"total\": 16040}, {\"test_date\": \"2020-06-04T00:00:00\", \"No\": 4486, \"Yes\": 14418, \"total\": 18904}, {\"test_date\": \"2020-06-05T00:00:00\", \"No\": 3901, \"Yes\": 9755, \"total\": 13656}, {\"test_date\": \"2020-06-06T00:00:00\", \"No\": 1113, \"Yes\": 6470, \"total\": 7583}, {\"test_date\": \"2020-06-07T00:00:00\", \"No\": 3706, \"Yes\": 10845, \"total\": 14551}, {\"test_date\": \"2020-06-08T00:00:00\", \"No\": 4039, \"Yes\": 11842, \"total\": 15881}, {\"test_date\": \"2020-06-09T00:00:00\", \"No\": 3524, \"Yes\": 13578, \"total\": 17102}, {\"test_date\": \"2020-06-10T00:00:00\", \"No\": 2945, \"Yes\": 13192, \"total\": 16137}, {\"test_date\": \"2020-06-11T00:00:00\", \"No\": 3278, \"Yes\": 12416, \"total\": 15694}, {\"test_date\": \"2020-06-12T00:00:00\", \"No\": 2339, \"Yes\": 6308, \"total\": 8647}, {\"test_date\": \"2020-06-13T00:00:00\", \"No\": 937, \"Yes\": 2154, \"total\": 3091}, {\"test_date\": \"2020-06-14T00:00:00\", \"No\": 3282, \"Yes\": 9465, \"total\": 12747}, {\"test_date\": \"2020-06-15T00:00:00\", \"No\": 4571, \"Yes\": 12478, \"total\": 17049}, {\"test_date\": \"2020-06-16T00:00:00\", \"No\": 5173, \"Yes\": 11442, \"total\": 16615}, {\"test_date\": \"2020-06-17T00:00:00\", \"No\": 4970, \"Yes\": 10804, \"total\": 15774}, {\"test_date\": \"2020-06-18T00:00:00\", \"No\": 4737, \"Yes\": 10506, \"total\": 15243}, {\"test_date\": \"2020-06-19T00:00:00\", \"No\": 3096, \"Yes\": 7233, \"total\": 10329}, {\"test_date\": \"2020-06-20T00:00:00\", \"No\": 825, \"Yes\": 2574, \"total\": 3399}, {\"test_date\": \"2020-06-21T00:00:00\", \"No\": 4193, \"Yes\": 8971, \"total\": 13164}, {\"test_date\": \"2020-06-22T00:00:00\", \"No\": 2314, \"Yes\": 4903, \"total\": 7217}]}}, {\"mode\": \"vega-lite\"});\n",
       "</script>"
      ],
      "text/plain": [
       "alt.Chart(...)"
      ]
     },
     "execution_count": 127,
     "metadata": {},
     "output_type": "execute_result"
    }
   ],
   "source": [
    "alt.Chart(ti.reset_index().assign(total=lambda x: x.Yes+x.No)).mark_line().encode(\n",
    "    x='test_date',\n",
    "    y='Yes',\n",
    "    tooltip=['test_date', 'Yes']\n",
    ").interactive()"
   ]
  },
  {
   "cell_type": "code",
   "execution_count": 128,
   "metadata": {
    "colab": {
     "base_uri": "https://localhost:8080/",
     "height": 363
    },
    "colab_type": "code",
    "id": "cGkqN8gAwl9B",
    "outputId": "cdf89fc1-d085-46bb-ddc5-246457035594"
   },
   "outputs": [
    {
     "data": {
      "text/html": [
       "\n",
       "<div id=\"altair-viz-1cb4ebe313e949efb51f16ae77d9242c\"></div>\n",
       "<script type=\"text/javascript\">\n",
       "  (function(spec, embedOpt){\n",
       "    let outputDiv = document.currentScript.previousElementSibling;\n",
       "    if (outputDiv.id !== \"altair-viz-1cb4ebe313e949efb51f16ae77d9242c\") {\n",
       "      outputDiv = document.getElementById(\"altair-viz-1cb4ebe313e949efb51f16ae77d9242c\");\n",
       "    }\n",
       "    const paths = {\n",
       "      \"vega\": \"https://cdn.jsdelivr.net/npm//vega@5?noext\",\n",
       "      \"vega-lib\": \"https://cdn.jsdelivr.net/npm//vega-lib?noext\",\n",
       "      \"vega-lite\": \"https://cdn.jsdelivr.net/npm//vega-lite@4.8.1?noext\",\n",
       "      \"vega-embed\": \"https://cdn.jsdelivr.net/npm//vega-embed@6?noext\",\n",
       "    };\n",
       "\n",
       "    function loadScript(lib) {\n",
       "      return new Promise(function(resolve, reject) {\n",
       "        var s = document.createElement('script');\n",
       "        s.src = paths[lib];\n",
       "        s.async = true;\n",
       "        s.onload = () => resolve(paths[lib]);\n",
       "        s.onerror = () => reject(`Error loading script: ${paths[lib]}`);\n",
       "        document.getElementsByTagName(\"head\")[0].appendChild(s);\n",
       "      });\n",
       "    }\n",
       "\n",
       "    function showError(err) {\n",
       "      outputDiv.innerHTML = `<div class=\"error\" style=\"color:red;\">${err}</div>`;\n",
       "      throw err;\n",
       "    }\n",
       "\n",
       "    function displayChart(vegaEmbed) {\n",
       "      vegaEmbed(outputDiv, spec, embedOpt)\n",
       "        .catch(err => showError(`Javascript Error: ${err.message}<br>This usually means there's a typo in your chart specification. See the javascript console for the full traceback.`));\n",
       "    }\n",
       "\n",
       "    if(typeof define === \"function\" && define.amd) {\n",
       "      requirejs.config({paths});\n",
       "      require([\"vega-embed\"], displayChart, err => showError(`Error loading script: ${err.message}`));\n",
       "    } else if (typeof vegaEmbed === \"function\") {\n",
       "      displayChart(vegaEmbed);\n",
       "    } else {\n",
       "      loadScript(\"vega\")\n",
       "        .then(() => loadScript(\"vega-lite\"))\n",
       "        .then(() => loadScript(\"vega-embed\"))\n",
       "        .catch(showError)\n",
       "        .then(() => displayChart(vegaEmbed));\n",
       "    }\n",
       "  })({\"config\": {\"view\": {\"continuousWidth\": 400, \"continuousHeight\": 300}}, \"data\": {\"name\": \"data-474521deac1c73cd98439d8ac5be8199\"}, \"mark\": \"bar\", \"encoding\": {\"tooltip\": [{\"type\": \"temporal\", \"field\": \"test_date\"}, {\"type\": \"quantitative\", \"field\": \"positive_rate\"}], \"x\": {\"type\": \"temporal\", \"field\": \"test_date\"}, \"y\": {\"type\": \"quantitative\", \"field\": \"positive_rate\"}}, \"selection\": {\"selector004\": {\"type\": \"interval\", \"bind\": \"scales\", \"encodings\": [\"x\", \"y\"]}}, \"$schema\": \"https://vega.github.io/schema/vega-lite/v4.8.1.json\", \"datasets\": {\"data-474521deac1c73cd98439d8ac5be8199\": [{\"test_date\": \"2020-03-11T00:00:00\", \"positive_rate\": 0.1264705882352941}, {\"test_date\": \"2020-03-12T00:00:00\", \"positive_rate\": 0.06134094151212553}, {\"test_date\": \"2020-03-13T00:00:00\", \"positive_rate\": 0.05660377358490566}, {\"test_date\": \"2020-03-14T00:00:00\", \"positive_rate\": 0.05847076461769116}, {\"test_date\": \"2020-03-15T00:00:00\", \"positive_rate\": 0.06336633663366337}, {\"test_date\": \"2020-03-16T00:00:00\", \"positive_rate\": 0.07086614173228346}, {\"test_date\": \"2020-03-17T00:00:00\", \"positive_rate\": 0.0620253164556962}, {\"test_date\": \"2020-03-18T00:00:00\", \"positive_rate\": 0.06729341909945571}, {\"test_date\": \"2020-03-19T00:00:00\", \"positive_rate\": 0.06958762886597938}, {\"test_date\": \"2020-03-20T00:00:00\", \"positive_rate\": 0.09270111880660628}, {\"test_date\": \"2020-03-21T00:00:00\", \"positive_rate\": 0.11655011655011654}, {\"test_date\": \"2020-03-22T00:00:00\", \"positive_rate\": 0.07632528448515126}, {\"test_date\": \"2020-03-23T00:00:00\", \"positive_rate\": 0.1126241134751773}, {\"test_date\": \"2020-03-24T00:00:00\", \"positive_rate\": 0.08131595282433271}, {\"test_date\": \"2020-03-25T00:00:00\", \"positive_rate\": 0.08590068865530989}, {\"test_date\": \"2020-03-26T00:00:00\", \"positive_rate\": 0.0851161369193154}, {\"test_date\": \"2020-03-27T00:00:00\", \"positive_rate\": 0.08731773482536453}, {\"test_date\": \"2020-03-28T00:00:00\", \"positive_rate\": 0.08168451624614267}, {\"test_date\": \"2020-03-29T00:00:00\", \"positive_rate\": 0.07890007189072609}, {\"test_date\": \"2020-03-30T00:00:00\", \"positive_rate\": 0.10331978319783197}, {\"test_date\": \"2020-03-31T00:00:00\", \"positive_rate\": 0.10193836285036954}, {\"test_date\": \"2020-04-01T00:00:00\", \"positive_rate\": 0.07717860702026354}, {\"test_date\": \"2020-04-02T00:00:00\", \"positive_rate\": 0.07395077874212341}, {\"test_date\": \"2020-04-03T00:00:00\", \"positive_rate\": 0.06161591944377847}, {\"test_date\": \"2020-04-04T00:00:00\", \"positive_rate\": 0.08082975679542204}, {\"test_date\": \"2020-04-05T00:00:00\", \"positive_rate\": 0.06885758998435054}, {\"test_date\": \"2020-04-06T00:00:00\", \"positive_rate\": 0.06467315716272601}, {\"test_date\": \"2020-04-07T00:00:00\", \"positive_rate\": 0.078552368245497}, {\"test_date\": \"2020-04-08T00:00:00\", \"positive_rate\": 0.06607100869974136}, {\"test_date\": \"2020-04-09T00:00:00\", \"positive_rate\": 0.06351157549682442}, {\"test_date\": \"2020-04-10T00:00:00\", \"positive_rate\": 0.061827023271969435}, {\"test_date\": \"2020-04-11T00:00:00\", \"positive_rate\": 0.0646661031276416}, {\"test_date\": \"2020-04-12T00:00:00\", \"positive_rate\": 0.05188527231711247}, {\"test_date\": \"2020-04-13T00:00:00\", \"positive_rate\": 0.05462133300601448}, {\"test_date\": \"2020-04-14T00:00:00\", \"positive_rate\": 0.050975177304964536}, {\"test_date\": \"2020-04-15T00:00:00\", \"positive_rate\": 0.03589883056839815}, {\"test_date\": \"2020-04-16T00:00:00\", \"positive_rate\": 0.0247811873879574}, {\"test_date\": \"2020-04-17T00:00:00\", \"positive_rate\": 0.026936460884134553}, {\"test_date\": \"2020-04-18T00:00:00\", \"positive_rate\": 0.03587374903772132}, {\"test_date\": \"2020-04-19T00:00:00\", \"positive_rate\": 0.02954853710521217}, {\"test_date\": \"2020-04-20T00:00:00\", \"positive_rate\": 0.021586475942782835}, {\"test_date\": \"2020-04-21T00:00:00\", \"positive_rate\": 0.023472702504453526}, {\"test_date\": \"2020-04-22T00:00:00\", \"positive_rate\": 0.020567755757900374}, {\"test_date\": \"2020-04-23T00:00:00\", \"positive_rate\": 0.02837630990227246}, {\"test_date\": \"2020-04-24T00:00:00\", \"positive_rate\": 0.0225}, {\"test_date\": \"2020-04-25T00:00:00\", \"positive_rate\": 0.020185229161719307}, {\"test_date\": \"2020-04-26T00:00:00\", \"positive_rate\": 0.014812620352540365}, {\"test_date\": \"2020-04-27T00:00:00\", \"positive_rate\": 0.01366742596810934}, {\"test_date\": \"2020-04-28T00:00:00\", \"positive_rate\": 0.018475750577367205}, {\"test_date\": \"2020-04-29T00:00:00\", \"positive_rate\": 0.012332990750256937}, {\"test_date\": \"2020-04-30T00:00:00\", \"positive_rate\": 0.01970108695652174}, {\"test_date\": \"2020-05-01T00:00:00\", \"positive_rate\": 0.012407639760211905}, {\"test_date\": \"2020-05-02T00:00:00\", \"positive_rate\": 0.009280742459396751}, {\"test_date\": \"2020-05-03T00:00:00\", \"positive_rate\": 0.006530475552578701}, {\"test_date\": \"2020-05-04T00:00:00\", \"positive_rate\": 0.0065111231687466084}, {\"test_date\": \"2020-05-05T00:00:00\", \"positive_rate\": 0.005982367758186398}, {\"test_date\": \"2020-05-06T00:00:00\", \"positive_rate\": 0.007707723138584862}, {\"test_date\": \"2020-05-07T00:00:00\", \"positive_rate\": 0.004970178926441352}, {\"test_date\": \"2020-05-08T00:00:00\", \"positive_rate\": 0.004267425320056899}, {\"test_date\": \"2020-05-09T00:00:00\", \"positive_rate\": 0.008442776735459663}, {\"test_date\": \"2020-05-10T00:00:00\", \"positive_rate\": 0.004862953138815208}, {\"test_date\": \"2020-05-11T00:00:00\", \"positive_rate\": 0.005513071314245065}, {\"test_date\": \"2020-05-12T00:00:00\", \"positive_rate\": 0.003605997342949326}, {\"test_date\": \"2020-05-13T00:00:00\", \"positive_rate\": 0.004729996058336618}, {\"test_date\": \"2020-05-14T00:00:00\", \"positive_rate\": 0.003639672429481347}, {\"test_date\": \"2020-05-15T00:00:00\", \"positive_rate\": 0.003194888178913738}, {\"test_date\": \"2020-05-16T00:00:00\", \"positive_rate\": 0.007104795737122558}, {\"test_date\": \"2020-05-17T00:00:00\", \"positive_rate\": 0.0045058576148993695}, {\"test_date\": \"2020-05-18T00:00:00\", \"positive_rate\": 0.005343866171003717}, {\"test_date\": \"2020-05-19T00:00:00\", \"positive_rate\": 0.0029154518950437317}, {\"test_date\": \"2020-05-20T00:00:00\", \"positive_rate\": 0.004228329809725159}, {\"test_date\": \"2020-05-21T00:00:00\", \"positive_rate\": 0.004336304504938569}, {\"test_date\": \"2020-05-22T00:00:00\", \"positive_rate\": 0.00636465743167353}, {\"test_date\": \"2020-05-23T00:00:00\", \"positive_rate\": 0.008310249307479225}, {\"test_date\": \"2020-05-24T00:00:00\", \"positive_rate\": 0.00140597539543058}, {\"test_date\": \"2020-05-25T00:00:00\", \"positive_rate\": 0.006549707602339181}, {\"test_date\": \"2020-05-26T00:00:00\", \"positive_rate\": 0.009474824038982133}, {\"test_date\": \"2020-05-27T00:00:00\", \"positive_rate\": 0.00796812749003984}, {\"test_date\": \"2020-05-28T00:00:00\", \"positive_rate\": 0.029428736295441432}, {\"test_date\": \"2020-05-29T00:00:00\", \"positive_rate\": 0.0660377358490566}, {\"test_date\": \"2020-05-30T00:00:00\", \"positive_rate\": 0.031007751937984496}, {\"test_date\": \"2020-05-31T00:00:00\", \"positive_rate\": 0.013353115727002967}, {\"test_date\": \"2020-06-01T00:00:00\", \"positive_rate\": 0.01271551724137931}, {\"test_date\": \"2020-06-02T00:00:00\", \"positive_rate\": 0.007911020599984334}, {\"test_date\": \"2020-06-03T00:00:00\", \"positive_rate\": 0.010020974131903984}, {\"test_date\": \"2020-06-04T00:00:00\", \"positive_rate\": 0.010830829431905527}, {\"test_date\": \"2020-06-05T00:00:00\", \"positive_rate\": 0.00844316309719934}, {\"test_date\": \"2020-06-06T00:00:00\", \"positive_rate\": 0.009940975458216837}, {\"test_date\": \"2020-06-07T00:00:00\", \"positive_rate\": 0.013928869904355093}, {\"test_date\": \"2020-06-08T00:00:00\", \"positive_rate\": 0.010581107603037801}, {\"test_date\": \"2020-06-09T00:00:00\", \"positive_rate\": 0.016660496112550906}, {\"test_date\": \"2020-06-10T00:00:00\", \"positive_rate\": 0.015811182401466544}, {\"test_date\": \"2020-06-11T00:00:00\", \"positive_rate\": 0.014820213799805637}, {\"test_date\": \"2020-06-12T00:00:00\", \"positive_rate\": 0.015702611760935747}, {\"test_date\": \"2020-06-13T00:00:00\", \"positive_rate\": 0.026143790849673203}, {\"test_date\": \"2020-06-14T00:00:00\", \"positive_rate\": 0.018270660718079455}, {\"test_date\": \"2020-06-15T00:00:00\", \"positive_rate\": 0.0213571889103804}, {\"test_date\": \"2020-06-16T00:00:00\", \"positive_rate\": 0.018461538461538463}, {\"test_date\": \"2020-06-17T00:00:00\", \"positive_rate\": 0.024721415862908512}, {\"test_date\": \"2020-06-18T00:00:00\", \"positive_rate\": 0.026011284307162666}, {\"test_date\": \"2020-06-19T00:00:00\", \"positive_rate\": 0.03141506811231582}, {\"test_date\": \"2020-06-20T00:00:00\", \"positive_rate\": 0.022440944881889763}, {\"test_date\": \"2020-06-21T00:00:00\", \"positive_rate\": 0.0281358592086089}, {\"test_date\": \"2020-06-22T00:00:00\", \"positive_rate\": 0.027538018906699546}]}}, {\"mode\": \"vega-lite\"});\n",
       "</script>"
      ],
      "text/plain": [
       "alt.Chart(...)"
      ]
     },
     "execution_count": 128,
     "metadata": {},
     "output_type": "execute_result"
    }
   ],
   "source": [
    "pr = (bdi[(bdi.test_date>'2020') & (bdi.test_date<'2021')&(bdi.corona_result.isin(['positive', 'negative'])) & (bdi.is_first_Test=='Yes')]\n",
    " .groupby(['test_date', 'corona_result']).size().unstack()\n",
    " .assign(positive_rate=lambda x: x.positive/(x.positive+x.negative))[['positive_rate']])\n",
    "\n",
    "alt.Chart(pr.reset_index()).mark_bar().encode(\n",
    "    x='test_date',\n",
    "    y='positive_rate',\n",
    "    tooltip=['test_date', 'positive_rate']\n",
    ").interactive()"
   ]
  },
  {
   "cell_type": "code",
   "execution_count": 129,
   "metadata": {
    "colab": {
     "base_uri": "https://localhost:8080/",
     "height": 377
    },
    "colab_type": "code",
    "id": "7I6bzCTK0xpU",
    "outputId": "9ede9efb-f863-4d86-c260-d69e70b38e33"
   },
   "outputs": [
    {
     "data": {
      "text/html": [
       "<div>\n",
       "<style scoped>\n",
       "    .dataframe tbody tr th:only-of-type {\n",
       "        vertical-align: middle;\n",
       "    }\n",
       "\n",
       "    .dataframe tbody tr th {\n",
       "        vertical-align: top;\n",
       "    }\n",
       "\n",
       "    .dataframe thead th {\n",
       "        text-align: right;\n",
       "    }\n",
       "</style>\n",
       "<table border=\"1\" class=\"dataframe\">\n",
       "  <thead>\n",
       "    <tr style=\"text-align: right;\">\n",
       "      <th></th>\n",
       "      <th>date</th>\n",
       "      <th>מאושפזים</th>\n",
       "      <th>אחוז נשים מאושפזות</th>\n",
       "      <th>גיל ממוצע מאושפזים</th>\n",
       "      <th>סטיית תקן גיל מאושפזים</th>\n",
       "      <th>resp</th>\n",
       "      <th>אחוז נשים מונשמות</th>\n",
       "      <th>גיל ממוצע מונשמים</th>\n",
       "      <th>סטיית תקן גיל מונשמים</th>\n",
       "      <th>חולים קל</th>\n",
       "      <th>...</th>\n",
       "      <th>גיל ממוצע חולים קל</th>\n",
       "      <th>סטיית תקן גיל חולים קל</th>\n",
       "      <th>חולים בינוני</th>\n",
       "      <th>אחוז נשים חולות בינוני</th>\n",
       "      <th>גיל ממוצע חולים בינוני</th>\n",
       "      <th>סטיית תקן גיל חולים בינוני</th>\n",
       "      <th>critical</th>\n",
       "      <th>אחוז נשים חולות קשה</th>\n",
       "      <th>גיל ממוצע חולים קשה</th>\n",
       "      <th>סטיית תקן גיל חולים קשה</th>\n",
       "    </tr>\n",
       "  </thead>\n",
       "  <tbody>\n",
       "    <tr>\n",
       "      <td>0</td>\n",
       "      <td>2020-03-11</td>\n",
       "      <td>78</td>\n",
       "      <td>35.9</td>\n",
       "      <td>48.0</td>\n",
       "      <td>18.2</td>\n",
       "      <td>15</td>\n",
       "      <td>33.3</td>\n",
       "      <td>68.0</td>\n",
       "      <td>18.2</td>\n",
       "      <td>70</td>\n",
       "      <td>...</td>\n",
       "      <td>46.0</td>\n",
       "      <td>16.9</td>\n",
       "      <td>NaN</td>\n",
       "      <td>NaN</td>\n",
       "      <td>NaN</td>\n",
       "      <td>NaN</td>\n",
       "      <td>15</td>\n",
       "      <td>42.9</td>\n",
       "      <td>71.0</td>\n",
       "      <td>17.7</td>\n",
       "    </tr>\n",
       "    <tr>\n",
       "      <td>1</td>\n",
       "      <td>2020-03-12</td>\n",
       "      <td>100</td>\n",
       "      <td>39.0</td>\n",
       "      <td>50.0</td>\n",
       "      <td>18.6</td>\n",
       "      <td>15</td>\n",
       "      <td>33.3</td>\n",
       "      <td>68.0</td>\n",
       "      <td>18.2</td>\n",
       "      <td>92</td>\n",
       "      <td>...</td>\n",
       "      <td>48.0</td>\n",
       "      <td>17.8</td>\n",
       "      <td>NaN</td>\n",
       "      <td>NaN</td>\n",
       "      <td>NaN</td>\n",
       "      <td>NaN</td>\n",
       "      <td>15</td>\n",
       "      <td>42.9</td>\n",
       "      <td>71.0</td>\n",
       "      <td>17.7</td>\n",
       "    </tr>\n",
       "    <tr>\n",
       "      <td>2</td>\n",
       "      <td>2020-03-13</td>\n",
       "      <td>120</td>\n",
       "      <td>39.2</td>\n",
       "      <td>49.0</td>\n",
       "      <td>18.4</td>\n",
       "      <td>15</td>\n",
       "      <td>33.3</td>\n",
       "      <td>68.0</td>\n",
       "      <td>18.2</td>\n",
       "      <td>109</td>\n",
       "      <td>...</td>\n",
       "      <td>47.0</td>\n",
       "      <td>17.4</td>\n",
       "      <td>&lt;15</td>\n",
       "      <td>50.0</td>\n",
       "      <td>64.0</td>\n",
       "      <td>17.3</td>\n",
       "      <td>15</td>\n",
       "      <td>42.9</td>\n",
       "      <td>71.0</td>\n",
       "      <td>17.7</td>\n",
       "    </tr>\n",
       "    <tr>\n",
       "      <td>3</td>\n",
       "      <td>2020-03-14</td>\n",
       "      <td>159</td>\n",
       "      <td>41.5</td>\n",
       "      <td>47.0</td>\n",
       "      <td>18.6</td>\n",
       "      <td>15</td>\n",
       "      <td>25.0</td>\n",
       "      <td>76.0</td>\n",
       "      <td>12.8</td>\n",
       "      <td>149</td>\n",
       "      <td>...</td>\n",
       "      <td>45.0</td>\n",
       "      <td>17.5</td>\n",
       "      <td>&lt;15</td>\n",
       "      <td>50.0</td>\n",
       "      <td>64.0</td>\n",
       "      <td>17.3</td>\n",
       "      <td>15</td>\n",
       "      <td>33.3</td>\n",
       "      <td>79.0</td>\n",
       "      <td>11.4</td>\n",
       "    </tr>\n",
       "    <tr>\n",
       "      <td>4</td>\n",
       "      <td>2020-03-15</td>\n",
       "      <td>198</td>\n",
       "      <td>44.9</td>\n",
       "      <td>46.0</td>\n",
       "      <td>18.8</td>\n",
       "      <td>15</td>\n",
       "      <td>33.3</td>\n",
       "      <td>77.0</td>\n",
       "      <td>10.3</td>\n",
       "      <td>183</td>\n",
       "      <td>...</td>\n",
       "      <td>44.0</td>\n",
       "      <td>17.5</td>\n",
       "      <td>&lt;15</td>\n",
       "      <td>50.0</td>\n",
       "      <td>58.0</td>\n",
       "      <td>14.9</td>\n",
       "      <td>15</td>\n",
       "      <td>44.4</td>\n",
       "      <td>80.0</td>\n",
       "      <td>9.7</td>\n",
       "    </tr>\n",
       "  </tbody>\n",
       "</table>\n",
       "<p>5 rows × 21 columns</p>\n",
       "</div>"
      ],
      "text/plain": [
       "        date  מאושפזים  אחוז נשים מאושפזות  גיל ממוצע מאושפזים  \\\n",
       "0 2020-03-11        78                35.9                48.0   \n",
       "1 2020-03-12       100                39.0                50.0   \n",
       "2 2020-03-13       120                39.2                49.0   \n",
       "3 2020-03-14       159                41.5                47.0   \n",
       "4 2020-03-15       198                44.9                46.0   \n",
       "\n",
       "   סטיית תקן גיל מאושפזים  resp  אחוז נשים מונשמות  גיל ממוצע מונשמים  \\\n",
       "0                    18.2    15               33.3               68.0   \n",
       "1                    18.6    15               33.3               68.0   \n",
       "2                    18.4    15               33.3               68.0   \n",
       "3                    18.6    15               25.0               76.0   \n",
       "4                    18.8    15               33.3               77.0   \n",
       "\n",
       "   סטיית תקן גיל מונשמים  חולים קל  ...  גיל ממוצע חולים קל  \\\n",
       "0                   18.2        70  ...                46.0   \n",
       "1                   18.2        92  ...                48.0   \n",
       "2                   18.2       109  ...                47.0   \n",
       "3                   12.8       149  ...                45.0   \n",
       "4                   10.3       183  ...                44.0   \n",
       "\n",
       "   סטיית תקן גיל חולים קל  חולים בינוני אחוז נשים חולות בינוני  \\\n",
       "0                    16.9           NaN                    NaN   \n",
       "1                    17.8           NaN                    NaN   \n",
       "2                    17.4           <15                   50.0   \n",
       "3                    17.5           <15                   50.0   \n",
       "4                    17.5           <15                   50.0   \n",
       "\n",
       "   גיל ממוצע חולים בינוני  סטיית תקן גיל חולים בינוני  critical  \\\n",
       "0                     NaN                         NaN        15   \n",
       "1                     NaN                         NaN        15   \n",
       "2                    64.0                        17.3        15   \n",
       "3                    64.0                        17.3        15   \n",
       "4                    58.0                        14.9        15   \n",
       "\n",
       "   אחוז נשים חולות קשה  גיל ממוצע חולים קשה  סטיית תקן גיל חולים קשה  \n",
       "0                 42.9                 71.0                     17.7  \n",
       "1                 42.9                 71.0                     17.7  \n",
       "2                 42.9                 71.0                     17.7  \n",
       "3                 33.3                 79.0                     11.4  \n",
       "4                 44.4                 80.0                      9.7  \n",
       "\n",
       "[5 rows x 21 columns]"
      ]
     },
     "execution_count": 129,
     "metadata": {},
     "output_type": "execute_result"
    }
   ],
   "source": [
    "hos_cols = {'תאריך': 'date',\n",
    "            'חולים קשה': 'critical',\n",
    "            'מונשמים': 'resp'}\n",
    "hos = (pd.read_csv('data/corona_hospitalization_ver_0013.csv.gz', encoding='utf-8-sig', low_memory=False, na_values=['None'])\n",
    "      .rename(columns=hos_cols)\n",
    "      .assign(date = lambda x: x.date.apply(pd.to_datetime))\n",
    "      .assign(critical = lambda x: x.critical.str.replace('<15', '15').astype(int))\n",
    "      .assign(resp = lambda x: x.resp.str.replace('<15', '15').astype(int)))\n",
    "#hos['test_date'] = hos.test_date.apply(pd.to_datetime, format='%Y-%m-%d')\n",
    "hos.head()"
   ]
  },
  {
   "cell_type": "code",
   "execution_count": 130,
   "metadata": {
    "colab": {
     "base_uri": "https://localhost:8080/",
     "height": 316
    },
    "colab_type": "code",
    "id": "_zLITZkLApR2",
    "outputId": "ecc91c9f-f0c3-4481-f6dc-941b869ebc89"
   },
   "outputs": [
    {
     "data": {
      "text/plain": [
       "<matplotlib.axes._subplots.AxesSubplot at 0x22803a211c8>"
      ]
     },
     "execution_count": 130,
     "metadata": {},
     "output_type": "execute_result"
    },
    {
     "data": {
      "image/png": "[encoded data removed]",
      "text/plain": [
       "<Figure size 432x288 with 1 Axes>"
      ]
     },
     "metadata": {},
     "output_type": "display_data"
    }
   ],
   "source": [
    "(hos[['date', 'critical', 'resp']].set_index('date').plot())"
   ]
  },
  {
   "cell_type": "code",
   "execution_count": null,
   "metadata": {
    "colab": {},
    "colab_type": "code",
    "id": "n4yWuBjiCD9S"
   },
   "outputs": [],
   "source": []
  },
  {
   "cell_type": "code",
   "execution_count": null,
   "metadata": {},
   "outputs": [],
   "source": []
  },
  {
   "cell_type": "code",
   "execution_count": null,
   "metadata": {},
   "outputs": [],
   "source": []
  },
  {
   "cell_type": "code",
   "execution_count": null,
   "metadata": {},
   "outputs": [],
   "source": []
  },
  {
   "cell_type": "code",
   "execution_count": null,
   "metadata": {},
   "outputs": [],
   "source": []
  }
 ],
 "metadata": {
  "colab": {
   "authorship_tag": "ABX9TyPZ16u/3ROLJZKBgk8y6lmL",
   "collapsed_sections": [],
   "include_colab_link": true,
   "name": "israel_covid.ipynb",
   "provenance": []
  },
  "kernelspec": {
   "display_name": "Python 3",
   "language": "python",
   "name": "python3"
  },
  "language_info": {
   "codemirror_mode": {
    "name": "ipython",
    "version": 3
   },
   "file_extension": ".py",
   "mimetype": "text/x-python",
   "name": "python",
   "nbconvert_exporter": "python",
   "pygments_lexer": "ipython3",
   "version": "3.7.4"
  }
 },
 "nbformat": 4,
 "nbformat_minor": 4
}
